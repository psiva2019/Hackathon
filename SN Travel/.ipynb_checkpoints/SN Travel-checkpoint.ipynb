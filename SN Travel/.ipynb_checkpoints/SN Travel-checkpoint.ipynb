{
 "cells": [
  {
   "cell_type": "code",
   "execution_count": 362,
   "metadata": {},
   "outputs": [],
   "source": [
    "import warnings\n",
    "warnings.filterwarnings('ignore')\n",
    "\n",
    "import pandas as pd\n",
    "import numpy as np\n",
    "import seaborn as sns\n",
    "import matplotlib.pyplot as plt\n",
    "%matplotlib inline"
   ]
  },
  {
   "cell_type": "code",
   "execution_count": 363,
   "metadata": {},
   "outputs": [],
   "source": [
    "travel_df_train = pd.read_csv('Traveldata_train.csv')\n",
    "travel_df_test = pd.read_csv('Traveldata_test.csv')\n",
    "\n",
    "survey_df_train = pd.read_csv('Surveydata_train.csv')\n",
    "survey_df_test = pd.read_csv('Surveydata_test.csv')"
   ]
  },
  {
   "cell_type": "code",
   "execution_count": 364,
   "metadata": {},
   "outputs": [],
   "source": [
    "def exp_data_ana(df,target,tvar):\n",
    "    pd.set_option('display.expand_frame_repr', False)\n",
    "#     print('\\n****Display first 5 rows****')\n",
    "#     print('****************************')\n",
    "#     print(df.head())\n",
    "\n",
    "    #Shape of the Data\n",
    "    print('\\n****Shape of the data****')\n",
    "    print('*************************')\n",
    "    print('No of rows\\t:\\t{}\\nNo of columns\\t:\\t{}'.format(df.shape[0],df.shape[1]))\n",
    "    \n",
    "    print('\\n****Show infomation of the data****')\n",
    "    print('***********************************')\n",
    "    print(df.info())\n",
    "\n",
    "    if(target==True):\n",
    "        #print the % of each class in the Target variable\n",
    "        perclass = df[tvar].value_counts(normalize=True)\n",
    "        print('\\n****Target Varible Distribution****')\n",
    "        print('************************************')\n",
    "        print('{} Yes\\t:\\t{}% \\n{} No\\t:\\t{}%'.format(tvar,round(perclass[1]*100,2),tvar,round(perclass[0]*100,2)))\n",
    "    \n",
    "    #Check for missing value\n",
    "    print('\\n****Missing Values in the Dataset****')\n",
    "    print('*************************************')\n",
    "    msv = df.isnull().sum()[df.isnull().sum()>0]\n",
    "    if msv.empty:\n",
    "        print('There is no missing values in the data.') \n",
    "    else:\n",
    "        for i in range(msv.count()):\n",
    "            print('{} Missing values in {} which is {}% of total data'.format(msv[i],msv.index[i],round(((msv[i]/df.shape[0])*100),2)))\n",
    "\n",
    "    # #Check for duplicate values\n",
    "    print('\\n****Duplicates data in the Dataset****')\n",
    "    print('**************************************')\n",
    "\n",
    "    dups = df.duplicated().sum()\n",
    "    if dups ==0:\n",
    "        print('There is no duplicate values in the data.') \n",
    "    else:\n",
    "        print(dups)\n",
    "\n",
    "    print('\\n****Describe the data****')\n",
    "    print('*************************')\n",
    "    print(df.describe())\n",
    "\n",
    "    print('\\n****Describe the catagorical data****')\n",
    "    print('*************************')\n",
    "    print(df.describe(include=['O']))"
   ]
  },
  {
   "cell_type": "code",
   "execution_count": 365,
   "metadata": {},
   "outputs": [],
   "source": [
    "df_train = travel_df_train.merge(survey_df_train,how='left',on=['ID'])\n",
    "df_test = travel_df_test.merge(survey_df_test,how='left',on=['ID'])"
   ]
  },
  {
   "cell_type": "code",
   "execution_count": 366,
   "metadata": {},
   "outputs": [
    {
     "name": "stdout",
     "output_type": "stream",
     "text": [
      "\n",
      "****Shape of the data****\n",
      "*************************\n",
      "No of rows\t:\t94379\n",
      "No of columns\t:\t25\n",
      "\n",
      "****Show infomation of the data****\n",
      "***********************************\n",
      "<class 'pandas.core.frame.DataFrame'>\n",
      "Int64Index: 94379 entries, 0 to 94378\n",
      "Data columns (total 25 columns):\n",
      " #   Column                   Non-Null Count  Dtype  \n",
      "---  ------                   --------------  -----  \n",
      " 0   ID                       94379 non-null  int64  \n",
      " 1   Gender                   94302 non-null  object \n",
      " 2   CustomerType             85428 non-null  object \n",
      " 3   Age                      94346 non-null  float64\n",
      " 4   TypeTravel               85153 non-null  object \n",
      " 5   Travel_Class             94379 non-null  object \n",
      " 6   Travel_Distance          94379 non-null  int64  \n",
      " 7   DepartureDelay_in_Mins   94322 non-null  float64\n",
      " 8   ArrivalDelay_in_Mins     94022 non-null  float64\n",
      " 9   Overall_Experience       94379 non-null  int64  \n",
      " 10  Seat_comfort             94318 non-null  object \n",
      " 11  Seat_Class               94379 non-null  object \n",
      " 12  Arrival_time_convenient  85449 non-null  object \n",
      " 13  Catering                 85638 non-null  object \n",
      " 14  Platform_location        94349 non-null  object \n",
      " 15  Onboardwifi_service      94349 non-null  object \n",
      " 16  Onboard_entertainment    94361 non-null  object \n",
      " 17  Online_support           94288 non-null  object \n",
      " 18  Onlinebooking_Ease       94306 non-null  object \n",
      " 19  Onboard_service          86778 non-null  object \n",
      " 20  Leg_room                 94289 non-null  object \n",
      " 21  Baggage_handling         94237 non-null  object \n",
      " 22  Checkin_service          94302 non-null  object \n",
      " 23  Cleanliness              94373 non-null  object \n",
      " 24  Online_boarding          94373 non-null  object \n",
      "dtypes: float64(3), int64(3), object(19)\n",
      "memory usage: 18.7+ MB\n",
      "None\n",
      "\n",
      "****Target Varible Distribution****\n",
      "************************************\n",
      "Overall_Experience Yes\t:\t54.67% \n",
      "Overall_Experience No\t:\t45.33%\n",
      "\n",
      "****Missing Values in the Dataset****\n",
      "*************************************\n",
      "77 Missing values in Gender which is 0.08% of total data\n",
      "8951 Missing values in CustomerType which is 9.48% of total data\n",
      "33 Missing values in Age which is 0.03% of total data\n",
      "9226 Missing values in TypeTravel which is 9.78% of total data\n",
      "57 Missing values in DepartureDelay_in_Mins which is 0.06% of total data\n",
      "357 Missing values in ArrivalDelay_in_Mins which is 0.38% of total data\n",
      "61 Missing values in Seat_comfort which is 0.06% of total data\n",
      "8930 Missing values in Arrival_time_convenient which is 9.46% of total data\n",
      "8741 Missing values in Catering which is 9.26% of total data\n",
      "30 Missing values in Platform_location which is 0.03% of total data\n",
      "30 Missing values in Onboardwifi_service which is 0.03% of total data\n",
      "18 Missing values in Onboard_entertainment which is 0.02% of total data\n",
      "91 Missing values in Online_support which is 0.1% of total data\n",
      "73 Missing values in Onlinebooking_Ease which is 0.08% of total data\n",
      "7601 Missing values in Onboard_service which is 8.05% of total data\n",
      "90 Missing values in Leg_room which is 0.1% of total data\n",
      "142 Missing values in Baggage_handling which is 0.15% of total data\n",
      "77 Missing values in Checkin_service which is 0.08% of total data\n",
      "6 Missing values in Cleanliness which is 0.01% of total data\n",
      "6 Missing values in Online_boarding which is 0.01% of total data\n",
      "\n",
      "****Duplicates data in the Dataset****\n",
      "**************************************\n",
      "There is no duplicate values in the data.\n",
      "\n",
      "****Describe the data****\n",
      "*************************\n",
      "                 ID           Age  Travel_Distance  DepartureDelay_in_Mins  ArrivalDelay_in_Mins  Overall_Experience\n",
      "count  9.437900e+04  94346.000000     94379.000000            94322.000000          94022.000000        94379.000000\n",
      "mean   9.884719e+07     39.419647      1978.888185               14.647092             15.005222            0.546658\n",
      "std    2.724501e+04     15.116632      1027.961019               38.138781             38.439409            0.497821\n",
      "min    9.880000e+07      7.000000        50.000000                0.000000              0.000000            0.000000\n",
      "25%    9.882360e+07     27.000000      1359.000000                0.000000              0.000000            0.000000\n",
      "50%    9.884719e+07     40.000000      1923.000000                0.000000              0.000000            1.000000\n",
      "75%    9.887078e+07     51.000000      2538.000000               12.000000             13.000000            1.000000\n",
      "max    9.889438e+07     85.000000      6951.000000             1592.000000           1584.000000            1.000000\n",
      "\n",
      "****Describe the catagorical data****\n",
      "*************************\n",
      "        Gender    CustomerType       TypeTravel Travel_Class Seat_comfort Seat_Class Arrival_time_convenient    Catering Platform_location Onboardwifi_service Onboard_entertainment Online_support Onlinebooking_Ease Onboard_service Leg_room Baggage_handling Checkin_service Cleanliness Online_boarding\n",
      "count    94302           85428            85153        94379        94318      94379                   85449       85638             94349               94349                 94361          94288              94306           86778    94289            94237           94302       94373           94373\n",
      "unique       2               2                2            2            6          2                       6           6                 6                   6                     6              6                  6               6        6                5               6           6               6\n",
      "top     Female  Loyal Customer  Business travel          Eco   acceptable  Green Car                    good  acceptable        manageable                good                  good           good               good            good     good             good            good        good            good\n",
      "freq     47815           69823            58617        49342        21158      47435                   19574       18468             24173               22835                 30446          30016              28909           27265    28870            34944           26502       35427           25533\n"
     ]
    }
   ],
   "source": [
    "exp_data_ana(df_train,True,'Overall_Experience')"
   ]
  },
  {
   "cell_type": "code",
   "execution_count": 367,
   "metadata": {},
   "outputs": [
    {
     "name": "stdout",
     "output_type": "stream",
     "text": [
      "\n",
      "****Shape of the data****\n",
      "*************************\n",
      "No of rows\t:\t35602\n",
      "No of columns\t:\t24\n",
      "\n",
      "****Show infomation of the data****\n",
      "***********************************\n",
      "<class 'pandas.core.frame.DataFrame'>\n",
      "Int64Index: 35602 entries, 0 to 35601\n",
      "Data columns (total 24 columns):\n",
      " #   Column                   Non-Null Count  Dtype  \n",
      "---  ------                   --------------  -----  \n",
      " 0   ID                       35602 non-null  int64  \n",
      " 1   Gender                   35572 non-null  object \n",
      " 2   CustomerType             32219 non-null  object \n",
      " 3   Age                      35591 non-null  float64\n",
      " 4   TypeTravel               32154 non-null  object \n",
      " 5   Travel_Class             35602 non-null  object \n",
      " 6   Travel_Distance          35602 non-null  int64  \n",
      " 7   DepartureDelay_in_Mins   35573 non-null  float64\n",
      " 8   ArrivalDelay_in_Mins     35479 non-null  float64\n",
      " 9   Seat_comfort             35580 non-null  object \n",
      " 10  Seat_Class               35602 non-null  object \n",
      " 11  Arrival_time_convenient  32277 non-null  object \n",
      " 12  Catering                 32245 non-null  object \n",
      " 13  Platform_location        35590 non-null  object \n",
      " 14  Onboardwifi_service      35590 non-null  object \n",
      " 15  Onboard_entertainment    35594 non-null  object \n",
      " 16  Online_support           35576 non-null  object \n",
      " 17  Onlinebooking_Ease       35584 non-null  object \n",
      " 18  Onboard_service          32730 non-null  object \n",
      " 19  Leg_room                 35577 non-null  object \n",
      " 20  Baggage_handling         35562 non-null  object \n",
      " 21  Checkin_service          35580 non-null  object \n",
      " 22  Cleanliness              35600 non-null  object \n",
      " 23  Online_boarding          35600 non-null  object \n",
      "dtypes: float64(3), int64(2), object(19)\n",
      "memory usage: 6.8+ MB\n",
      "None\n",
      "\n",
      "****Missing Values in the Dataset****\n",
      "*************************************\n",
      "30 Missing values in Gender which is 0.08% of total data\n",
      "3383 Missing values in CustomerType which is 9.5% of total data\n",
      "11 Missing values in Age which is 0.03% of total data\n",
      "3448 Missing values in TypeTravel which is 9.68% of total data\n",
      "29 Missing values in DepartureDelay_in_Mins which is 0.08% of total data\n",
      "123 Missing values in ArrivalDelay_in_Mins which is 0.35% of total data\n",
      "22 Missing values in Seat_comfort which is 0.06% of total data\n",
      "3325 Missing values in Arrival_time_convenient which is 9.34% of total data\n",
      "3357 Missing values in Catering which is 9.43% of total data\n",
      "12 Missing values in Platform_location which is 0.03% of total data\n",
      "12 Missing values in Onboardwifi_service which is 0.03% of total data\n",
      "8 Missing values in Onboard_entertainment which is 0.02% of total data\n",
      "26 Missing values in Online_support which is 0.07% of total data\n",
      "18 Missing values in Onlinebooking_Ease which is 0.05% of total data\n",
      "2872 Missing values in Onboard_service which is 8.07% of total data\n",
      "25 Missing values in Leg_room which is 0.07% of total data\n",
      "40 Missing values in Baggage_handling which is 0.11% of total data\n",
      "22 Missing values in Checkin_service which is 0.06% of total data\n",
      "2 Missing values in Cleanliness which is 0.01% of total data\n",
      "2 Missing values in Online_boarding which is 0.01% of total data\n",
      "\n",
      "****Duplicates data in the Dataset****\n",
      "**************************************\n",
      "There is no duplicate values in the data.\n",
      "\n",
      "****Describe the data****\n",
      "*************************\n",
      "                 ID           Age  Travel_Distance  DepartureDelay_in_Mins  ArrivalDelay_in_Mins\n",
      "count  3.560200e+04  35591.000000     35602.000000            35573.000000          35479.000000\n",
      "mean   9.991780e+07     39.446995      1987.151761               14.880696             15.308802\n",
      "std    1.027756e+04     15.137554      1024.308863               37.895453             38.531293\n",
      "min    9.990000e+07      7.000000        50.000000                0.000000              0.000000\n",
      "25%    9.990890e+07     27.000000      1360.000000                0.000000              0.000000\n",
      "50%    9.991780e+07     40.000000      1929.000000                0.000000              0.000000\n",
      "75%    9.992670e+07     51.000000      2559.000000               13.000000             13.000000\n",
      "max    9.993560e+07     85.000000      6868.000000              978.000000            970.000000\n",
      "\n",
      "****Describe the catagorical data****\n",
      "*************************\n",
      "        Gender    CustomerType       TypeTravel Travel_Class Seat_comfort Seat_Class Arrival_time_convenient    Catering Platform_location Onboardwifi_service Onboard_entertainment Online_support Onlinebooking_Ease Onboard_service Leg_room Baggage_handling Checkin_service Cleanliness Online_boarding\n",
      "count    35572           32219            32154        35602        35580      35602                   32277       32245             35590               35590                 35594          35576              35584           32730    35577            35562           35580       35600           35600\n",
      "unique       2               2                2            2            6          2                       6           6                 5                   6                     6              5                  6               5        6                5               5           5               6\n",
      "top     Female  Loyal Customer  Business travel          Eco   acceptable   Ordinary                    good  acceptable        manageable                good                  good           good               good            good     good             good            good        good            good\n",
      "freq     18069           26349            22313        18473         8003      17860                    7361        7133              9364                8743                 11436          11487              11025           10222    10842            13291            9982       13421            9680\n"
     ]
    }
   ],
   "source": [
    "exp_data_ana(df_test,False,False)"
   ]
  },
  {
   "cell_type": "code",
   "execution_count": 368,
   "metadata": {},
   "outputs": [
    {
     "name": "stdout",
     "output_type": "stream",
     "text": [
      "Catogorical Variables : \n",
      "*****************\n",
      " ['Gender', 'CustomerType', 'TypeTravel', 'Travel_Class', 'Seat_comfort', 'Seat_Class', 'Arrival_time_convenient', 'Catering', 'Platform_location', 'Onboardwifi_service', 'Onboard_entertainment', 'Online_support', 'Onlinebooking_Ease', 'Onboard_service', 'Leg_room', 'Baggage_handling', 'Checkin_service', 'Cleanliness', 'Online_boarding']\n",
      "\n",
      "Numerical Variables : \n",
      "*****************\n",
      " ['ID', 'Age', 'Travel_Distance', 'DepartureDelay_in_Mins', 'ArrivalDelay_in_Mins', 'Overall_Experience']\n"
     ]
    }
   ],
   "source": [
    "cat=[]\n",
    "num=[]\n",
    "for i in df_train.loc[:, ~df_train.columns. isin(['EmployeeID'])]:\n",
    "    if df_train[i].dtype==\"object\":\n",
    "        cat.append(i)\n",
    "    else:\n",
    "        num.append(i)\n",
    "       \n",
    "print('Catogorical Variables : \\n*****************\\n', cat) \n",
    "print('\\nNumerical Variables : \\n*****************\\n', num) "
   ]
  },
  {
   "cell_type": "code",
   "execution_count": 369,
   "metadata": {},
   "outputs": [
    {
     "name": "stdout",
     "output_type": "stream",
     "text": [
      "Unique values of the catagorical variable Gender\n",
      "*******************************************************\n",
      "\n",
      "Female    47815\n",
      "Male      46487\n",
      "Name: Gender, dtype: int64\n",
      "\n",
      "\n",
      "Unique values of the catagorical variable CustomerType\n",
      "*******************************************************\n",
      "\n",
      "Loyal Customer       69823\n",
      "disloyal Customer    15605\n",
      "Name: CustomerType, dtype: int64\n",
      "\n",
      "\n",
      "Unique values of the catagorical variable TypeTravel\n",
      "*******************************************************\n",
      "\n",
      "Business travel    58617\n",
      "Personal Travel    26536\n",
      "Name: TypeTravel, dtype: int64\n",
      "\n",
      "\n",
      "Unique values of the catagorical variable Travel_Class\n",
      "*******************************************************\n",
      "\n",
      "Eco         49342\n",
      "Business    45037\n",
      "Name: Travel_Class, dtype: int64\n",
      "\n",
      "\n",
      "Unique values of the catagorical variable Seat_comfort\n",
      "*******************************************************\n",
      "\n",
      "acceptable          21158\n",
      "need improvement    20946\n",
      "good                20595\n",
      "poor                15185\n",
      "excellent           12971\n",
      "extremely poor       3463\n",
      "Name: Seat_comfort, dtype: int64\n",
      "\n",
      "\n",
      "Unique values of the catagorical variable Seat_Class\n",
      "*******************************************************\n",
      "\n",
      "Green Car    47435\n",
      "Ordinary     46944\n",
      "Name: Seat_Class, dtype: int64\n",
      "\n",
      "\n",
      "Unique values of the catagorical variable Arrival_time_convenient\n",
      "*******************************************************\n",
      "\n",
      "good                19574\n",
      "excellent           17684\n",
      "acceptable          15177\n",
      "need improvement    14990\n",
      "poor                13692\n",
      "extremely poor       4332\n",
      "Name: Arrival_time_convenient, dtype: int64\n",
      "\n",
      "\n",
      "Unique values of the catagorical variable Catering\n",
      "*******************************************************\n",
      "\n",
      "acceptable          18468\n",
      "need improvement    17978\n",
      "good                17969\n",
      "poor                13858\n",
      "excellent           13455\n",
      "extremely poor       3910\n",
      "Name: Catering, dtype: int64\n",
      "\n",
      "\n",
      "Unique values of the catagorical variable Platform_location\n",
      "*******************************************************\n",
      "\n",
      "manageable           24173\n",
      "Convinient           21912\n",
      "need improvement     17832\n",
      "Inconvinient         16449\n",
      "very convinient      13981\n",
      "very inconvinient        2\n",
      "Name: Platform_location, dtype: int64\n",
      "\n",
      "\n",
      "Unique values of the catagorical variable Onboardwifi_service\n",
      "*******************************************************\n",
      "\n",
      "good                22835\n",
      "excellent           20968\n",
      "acceptable          20118\n",
      "need improvement    19596\n",
      "poor                10741\n",
      "extremely poor         91\n",
      "Name: Onboardwifi_service, dtype: int64\n",
      "\n",
      "\n",
      "Unique values of the catagorical variable Onboard_entertainment\n",
      "*******************************************************\n",
      "\n",
      "good                30446\n",
      "excellent           21644\n",
      "acceptable          17560\n",
      "need improvement    13926\n",
      "poor                 8641\n",
      "extremely poor       2144\n",
      "Name: Onboard_entertainment, dtype: int64\n",
      "\n",
      "\n",
      "Unique values of the catagorical variable Online_support\n",
      "*******************************************************\n",
      "\n",
      "good                30016\n",
      "excellent           25894\n",
      "acceptable          15702\n",
      "need improvement    12508\n",
      "poor                10167\n",
      "extremely poor          1\n",
      "Name: Online_support, dtype: int64\n",
      "\n",
      "\n",
      "Unique values of the catagorical variable Onlinebooking_Ease\n",
      "*******************************************************\n",
      "\n",
      "good                28909\n",
      "excellent           24744\n",
      "acceptable          16390\n",
      "need improvement    14479\n",
      "poor                 9768\n",
      "extremely poor         16\n",
      "Name: Onlinebooking_Ease, dtype: int64\n",
      "\n",
      "\n",
      "Unique values of the catagorical variable Onboard_service\n",
      "*******************************************************\n",
      "\n",
      "good                27265\n",
      "excellent           21272\n",
      "acceptable          18071\n",
      "need improvement    11390\n",
      "poor                 8776\n",
      "extremely poor          4\n",
      "Name: Onboard_service, dtype: int64\n",
      "\n",
      "\n",
      "Unique values of the catagorical variable Leg_room\n",
      "*******************************************************\n",
      "\n",
      "good                28870\n",
      "excellent           24832\n",
      "acceptable          16384\n",
      "need improvement    15753\n",
      "poor                 8110\n",
      "extremely poor        340\n",
      "Name: Leg_room, dtype: int64\n",
      "\n",
      "\n",
      "Unique values of the catagorical variable Baggage_handling\n",
      "*******************************************************\n",
      "\n",
      "good                34944\n",
      "excellent           26003\n",
      "acceptable          17767\n",
      "need improvement     9759\n",
      "poor                 5764\n",
      "Name: Baggage_handling, dtype: int64\n",
      "\n",
      "\n",
      "Unique values of the catagorical variable Checkin_service\n",
      "*******************************************************\n",
      "\n",
      "good                26502\n",
      "acceptable          25803\n",
      "excellent           19641\n",
      "need improvement    11218\n",
      "poor                11137\n",
      "extremely poor          1\n",
      "Name: Checkin_service, dtype: int64\n",
      "\n",
      "\n",
      "Unique values of the catagorical variable Cleanliness\n",
      "*******************************************************\n",
      "\n",
      "good                35427\n",
      "excellent           26053\n",
      "acceptable          17449\n",
      "need improvement     9806\n",
      "poor                 5633\n",
      "extremely poor          5\n",
      "Name: Cleanliness, dtype: int64\n",
      "\n",
      "\n",
      "Unique values of the catagorical variable Online_boarding\n",
      "*******************************************************\n",
      "\n",
      "good                25533\n",
      "acceptable          22475\n",
      "excellent           21742\n",
      "need improvement    13451\n",
      "poor                11160\n",
      "extremely poor         12\n",
      "Name: Online_boarding, dtype: int64\n",
      "\n",
      "\n"
     ]
    }
   ],
   "source": [
    "#Unique values of the catagrical variables\n",
    "for i in cat:\n",
    "    print(f'Unique values of the catagorical variable {i}')\n",
    "    print('*******************************************************\\n')\n",
    "    print(df_train[i].value_counts())\n",
    "    print('\\n')"
   ]
  },
  {
   "cell_type": "code",
   "execution_count": 370,
   "metadata": {},
   "outputs": [],
   "source": [
    "# bins = [7,30,45,60,85]\n",
    "# labels=['7-30','31-45','46-60','61-85']\n",
    "\n",
    "# df_train['AgeRange'] = pd.cut(df_train['Age'],bins=bins, labels=labels)\n",
    "\n",
    "# bins = [0,320,640,960,1280,1600]\n",
    "# labels=['0-320','321-640','641-960','961-1280','1281-1600']\n",
    "\n",
    "# df_train['DepartureDelay_in_MinsRange'] = pd.cut(df_train['DepartureDelay_in_Mins'],bins=bins, labels=labels)\n",
    "\n",
    "# bins = [0,320,640,960,1280,1600]\n",
    "# labels=['0-320','321-640','641-960','961-1280','1281-1600']\n",
    "\n",
    "# df_train['ArrivalDelay_in_MinsRange'] = pd.cut(df_train['ArrivalDelay_in_Mins'],bins=bins, labels=labels)"
   ]
  },
  {
   "cell_type": "code",
   "execution_count": 371,
   "metadata": {},
   "outputs": [
    {
     "name": "stdout",
     "output_type": "stream",
     "text": [
      "Number of missing values in CustomerType: \n",
      " Train\t:\t8951\n",
      " Test\t:\t3383\n"
     ]
    }
   ],
   "source": [
    "nmstr=df_train['CustomerType'].isnull().sum()\n",
    "nmste=df_test['CustomerType'].isnull().sum()\n",
    "print(f'Number of missing values in CustomerType: \\n Train\\t:\\t{nmstr}\\n Test\\t:\\t{nmste}')    "
   ]
  },
  {
   "cell_type": "code",
   "execution_count": 372,
   "metadata": {},
   "outputs": [
    {
     "data": {
      "text/plain": [
       "Travel_Class\n",
       "Business    Loyal Customer\n",
       "Eco         Loyal Customer\n",
       "Name: CustomerType, dtype: object"
      ]
     },
     "execution_count": 372,
     "metadata": {},
     "output_type": "execute_result"
    }
   ],
   "source": [
    "df_train.groupby(['Travel_Class'])['CustomerType'].agg(pd.Series.mode)"
   ]
  },
  {
   "cell_type": "code",
   "execution_count": 373,
   "metadata": {},
   "outputs": [],
   "source": [
    "#Impute the Department with mode value of group by \"EductaionField\"\n",
    "df_train['CustomerType'] = df_train.groupby(['Travel_Class'])['CustomerType'].apply(lambda x: x.fillna(x.mode()[0]))\n",
    "df_test['CustomerType'] = df_test.groupby(['Travel_Class'])['CustomerType'].apply(lambda x: x.fillna(x.mode()[0]))"
   ]
  },
  {
   "cell_type": "code",
   "execution_count": 374,
   "metadata": {},
   "outputs": [
    {
     "name": "stdout",
     "output_type": "stream",
     "text": [
      "Number of missing values in CustomerType: \n",
      " Train\t:\t0\n",
      " Test\t:\t0\n"
     ]
    }
   ],
   "source": [
    "nmstr=df_train['CustomerType'].isnull().sum()\n",
    "nmste=df_test['CustomerType'].isnull().sum()\n",
    "print(f'Number of missing values in CustomerType: \\n Train\\t:\\t{nmstr}\\n Test\\t:\\t{nmste}')    "
   ]
  },
  {
   "cell_type": "code",
   "execution_count": 375,
   "metadata": {},
   "outputs": [
    {
     "name": "stdout",
     "output_type": "stream",
     "text": [
      "Number of missing values in Age: \n",
      " Train\t:\t33\n",
      " Test\t:\t11\n"
     ]
    }
   ],
   "source": [
    "nmstr=df_train['Age'].isnull().sum()\n",
    "nmste=df_test['Age'].isnull().sum()\n",
    "print(f'Number of missing values in Age: \\n Train\\t:\\t{nmstr}\\n Test\\t:\\t{nmste}')    "
   ]
  },
  {
   "cell_type": "code",
   "execution_count": 376,
   "metadata": {},
   "outputs": [
    {
     "data": {
      "text/plain": [
       "Gender  CustomerType       Travel_Class\n",
       "Female  Loyal Customer     Business        44.0\n",
       "                           Eco             40.0\n",
       "        disloyal Customer  Business        30.0\n",
       "                           Eco             26.0\n",
       "Male    Loyal Customer     Business        44.0\n",
       "                           Eco             40.0\n",
       "        disloyal Customer  Business        30.0\n",
       "                           Eco             25.0\n",
       "Name: Age, dtype: float64"
      ]
     },
     "execution_count": 376,
     "metadata": {},
     "output_type": "execute_result"
    }
   ],
   "source": [
    "df_train.groupby(by=['Gender','CustomerType','Travel_Class'])['Age'].median()"
   ]
  },
  {
   "cell_type": "code",
   "execution_count": 377,
   "metadata": {},
   "outputs": [],
   "source": [
    "#Impute the Age with group by \"WorkExprience\" and \"EductaionField\"\n",
    "df_train['Age'] = df_train['Age'].fillna(df_train.groupby(by=['Gender','CustomerType','Travel_Class'])['Age'].transform('median'))\n",
    "df_test['Age'] = df_test['Age'].fillna(df_test.groupby(by=['Gender','CustomerType','Travel_Class'])['Age'].transform('median'))"
   ]
  },
  {
   "cell_type": "code",
   "execution_count": 378,
   "metadata": {},
   "outputs": [
    {
     "name": "stdout",
     "output_type": "stream",
     "text": [
      "Number of missing values in Age: \n",
      " Train\t:\t0\n",
      " Test\t:\t0\n"
     ]
    }
   ],
   "source": [
    "nmstr=df_train['Age'].isnull().sum()\n",
    "nmste=df_test['Age'].isnull().sum()\n",
    "print(f'Number of missing values in Age: \\n Train\\t:\\t{nmstr}\\n Test\\t:\\t{nmste}')    "
   ]
  },
  {
   "cell_type": "code",
   "execution_count": 379,
   "metadata": {},
   "outputs": [
    {
     "name": "stdout",
     "output_type": "stream",
     "text": [
      "Number of missing values in DepartureDelay_in_Mins: \n",
      " Train\t:\t57\n",
      " Test\t:\t29\n"
     ]
    }
   ],
   "source": [
    "nmstr=df_train['DepartureDelay_in_Mins'].isnull().sum()\n",
    "nmste=df_test['DepartureDelay_in_Mins'].isnull().sum()\n",
    "print(f'Number of missing values in DepartureDelay_in_Mins: \\n Train\\t:\\t{nmstr}\\n Test\\t:\\t{nmste}')    "
   ]
  },
  {
   "cell_type": "code",
   "execution_count": 380,
   "metadata": {},
   "outputs": [],
   "source": [
    "df_train['DepartureDelay_in_Mins'] = df_train['DepartureDelay_in_Mins'].fillna(0)\n",
    "df_test['DepartureDelay_in_Mins'] = df_test['DepartureDelay_in_Mins'].fillna(0)\n",
    "\n",
    "# df_train['ArrivalDelay_in_Mins'] = df_train['ArrivalDelay_in_Mins'].fillna(0)\n",
    "# df_test['ArrivalDelay_in_Mins'] = df_test['ArrivalDelay_in_Mins'].fillna(0)"
   ]
  },
  {
   "cell_type": "code",
   "execution_count": 381,
   "metadata": {},
   "outputs": [
    {
     "name": "stdout",
     "output_type": "stream",
     "text": [
      "Number of missing values in DepartureDelay_in_Mins: \n",
      " Train\t:\t0\n",
      " Test\t:\t0\n"
     ]
    }
   ],
   "source": [
    "nmstr=df_train['DepartureDelay_in_Mins'].isnull().sum()\n",
    "nmste=df_test['DepartureDelay_in_Mins'].isnull().sum()\n",
    "print(f'Number of missing values in DepartureDelay_in_Mins: \\n Train\\t:\\t{nmstr}\\n Test\\t:\\t{nmste}')    "
   ]
  },
  {
   "cell_type": "code",
   "execution_count": 382,
   "metadata": {},
   "outputs": [
    {
     "name": "stdout",
     "output_type": "stream",
     "text": [
      "Number of missing values in ArrivalDelay_in_Mins: \n",
      " Train\t:\t357\n",
      " Test\t:\t123\n"
     ]
    }
   ],
   "source": [
    "nmstr=df_train['ArrivalDelay_in_Mins'].isnull().sum()\n",
    "nmste=df_test['ArrivalDelay_in_Mins'].isnull().sum()\n",
    "print(f'Number of missing values in ArrivalDelay_in_Mins: \\n Train\\t:\\t{nmstr}\\n Test\\t:\\t{nmste}')    "
   ]
  },
  {
   "cell_type": "code",
   "execution_count": 383,
   "metadata": {},
   "outputs": [
    {
     "data": {
      "text/plain": [
       "Arrival_time_convenient\n",
       "acceptable          15.28\n",
       "excellent           14.55\n",
       "extremely poor      12.96\n",
       "good                15.05\n",
       "need improvement    15.60\n",
       "poor                15.34\n",
       "Name: ArrivalDelay_in_Mins, dtype: float64"
      ]
     },
     "execution_count": 383,
     "metadata": {},
     "output_type": "execute_result"
    }
   ],
   "source": [
    "round(df_train.groupby(by=['Arrival_time_convenient'])['ArrivalDelay_in_Mins'].mean(),2)"
   ]
  },
  {
   "cell_type": "code",
   "execution_count": 384,
   "metadata": {},
   "outputs": [],
   "source": [
    "df_train['ArrivalDelay_in_Mins'] = df_train['ArrivalDelay_in_Mins'].fillna(df_train.groupby(by=['Arrival_time_convenient'])['ArrivalDelay_in_Mins'].transform('mean'))\n",
    "df_test['ArrivalDelay_in_Mins'] = df_test['ArrivalDelay_in_Mins'].fillna(df_test.groupby(by=['Arrival_time_convenient'])['ArrivalDelay_in_Mins'].transform('mean'))"
   ]
  },
  {
   "cell_type": "code",
   "execution_count": 385,
   "metadata": {},
   "outputs": [],
   "source": [
    "df_train['ArrivalDelay_in_Mins'] = df_train['ArrivalDelay_in_Mins'].fillna(0)\n",
    "df_test['ArrivalDelay_in_Mins'] = df_test['ArrivalDelay_in_Mins'].fillna(0)"
   ]
  },
  {
   "cell_type": "code",
   "execution_count": 386,
   "metadata": {},
   "outputs": [
    {
     "name": "stdout",
     "output_type": "stream",
     "text": [
      "Number of missing values in ArrivalDelay_in_Mins: \n",
      " Train\t:\t0\n",
      " Test\t:\t0\n"
     ]
    }
   ],
   "source": [
    "nmstr=df_train['ArrivalDelay_in_Mins'].isnull().sum()\n",
    "nmste=df_test['ArrivalDelay_in_Mins'].isnull().sum()\n",
    "print(f'Number of missing values in ArrivalDelay_in_Mins: \\n Train\\t:\\t{nmstr}\\n Test\\t:\\t{nmste}')    "
   ]
  },
  {
   "cell_type": "code",
   "execution_count": 387,
   "metadata": {},
   "outputs": [
    {
     "name": "stdout",
     "output_type": "stream",
     "text": [
      "Number of missing values in Arrival_time_convenient: \n",
      " Train\t:\t8930\n",
      " Test\t:\t3325\n"
     ]
    }
   ],
   "source": [
    "nmstr=df_train['Arrival_time_convenient'].isnull().sum()\n",
    "nmste=df_test['Arrival_time_convenient'].isnull().sum()\n",
    "print(f'Number of missing values in Arrival_time_convenient: \\n Train\\t:\\t{nmstr}\\n Test\\t:\\t{nmste}')    "
   ]
  },
  {
   "cell_type": "code",
   "execution_count": 388,
   "metadata": {},
   "outputs": [],
   "source": [
    "df_train['Arrival_time_convenient'] = df_train['Arrival_time_convenient'].fillna('0')\n",
    "df_test['Arrival_time_convenient'] = df_test['Arrival_time_convenient'].fillna('0')"
   ]
  },
  {
   "cell_type": "code",
   "execution_count": 389,
   "metadata": {},
   "outputs": [
    {
     "data": {
      "text/plain": [
       "good                19574\n",
       "excellent           17684\n",
       "acceptable          15177\n",
       "need improvement    14990\n",
       "poor                13692\n",
       "0                    8930\n",
       "extremely poor       4332\n",
       "Name: Arrival_time_convenient, dtype: int64"
      ]
     },
     "execution_count": 389,
     "metadata": {},
     "output_type": "execute_result"
    }
   ],
   "source": [
    "df_train['Arrival_time_convenient'].value_counts()"
   ]
  },
  {
   "cell_type": "code",
   "execution_count": 390,
   "metadata": {},
   "outputs": [
    {
     "data": {
      "text/plain": [
       "good                7361\n",
       "excellent           6589\n",
       "acceptable          5844\n",
       "need improvement    5684\n",
       "poor                5131\n",
       "0                   3325\n",
       "extremely poor      1668\n",
       "Name: Arrival_time_convenient, dtype: int64"
      ]
     },
     "execution_count": 390,
     "metadata": {},
     "output_type": "execute_result"
    }
   ],
   "source": [
    "df_test['Arrival_time_convenient'].value_counts()"
   ]
  },
  {
   "cell_type": "code",
   "execution_count": 391,
   "metadata": {},
   "outputs": [
    {
     "data": {
      "text/plain": [
       "excellent           23101\n",
       "good                19575\n",
       "acceptable          18391\n",
       "need improvement    14990\n",
       "poor                13990\n",
       "extremely poor       4332\n",
       "Name: Arrival_time_convenient, dtype: int64"
      ]
     },
     "execution_count": 391,
     "metadata": {},
     "output_type": "execute_result"
    }
   ],
   "source": [
    "df_train['Arrival_time_convenient']=df_train.apply(\n",
    "    lambda row: 'excellent' if (row['Arrival_time_convenient']=='0' and row['ArrivalDelay_in_Mins']<=2) else row['Arrival_time_convenient'],\n",
    "    axis=1\n",
    ")\n",
    "\n",
    "df_train['Arrival_time_convenient']=df_train.apply(\n",
    "    lambda row: 'acceptable' if (row['Arrival_time_convenient']=='0' and (row['ArrivalDelay_in_Mins']>2 and row['ArrivalDelay_in_Mins']<=100)) else row['Arrival_time_convenient'],\n",
    "    axis=1\n",
    ")\n",
    "\n",
    "df_train['Arrival_time_convenient']=df_train.apply(\n",
    "    lambda row: 'poor' if (row['Arrival_time_convenient']=='0' and (row['ArrivalDelay_in_Mins']>100 and row['ArrivalDelay_in_Mins']<=640)) else row['Arrival_time_convenient'],\n",
    "    axis=1\n",
    ")\n",
    "\n",
    "df_train['Arrival_time_convenient']=df_train.apply(\n",
    "    lambda row: 'good' if (row['Arrival_time_convenient']=='0' and (row['ArrivalDelay_in_Mins']>640 and row['ArrivalDelay_in_Mins']<=960)) else row['Arrival_time_convenient'],\n",
    "    axis=1\n",
    ")\n",
    "\n",
    "df_train['Arrival_time_convenient']=df_train.apply(\n",
    "    lambda row: 'extremely poor' if (row['Arrival_time_convenient']=='0' and (row['ArrivalDelay_in_Mins']>960 and row['ArrivalDelay_in_Mins']<=1280)) else row['Arrival_time_convenient'],\n",
    "    axis=1\n",
    ")\n",
    "\n",
    "df_train['Arrival_time_convenient']=df_train.apply(\n",
    "    lambda row: 'need improvement' if (row['Arrival_time_convenient']=='0' and (row['ArrivalDelay_in_Mins']>1280 and row['ArrivalDelay_in_Mins']<=1600)) else row['Arrival_time_convenient'],\n",
    "    axis=1\n",
    ")\n",
    "\n",
    "df_train['Arrival_time_convenient'].value_counts()"
   ]
  },
  {
   "cell_type": "code",
   "execution_count": 392,
   "metadata": {},
   "outputs": [
    {
     "data": {
      "text/plain": [
       "excellent           8564\n",
       "good                7361\n",
       "acceptable          7075\n",
       "need improvement    5684\n",
       "poor                5250\n",
       "extremely poor      1668\n",
       "Name: Arrival_time_convenient, dtype: int64"
      ]
     },
     "execution_count": 392,
     "metadata": {},
     "output_type": "execute_result"
    }
   ],
   "source": [
    "df_test['Arrival_time_convenient']=df_test.apply(\n",
    "    lambda row: 'excellent' if (row['Arrival_time_convenient']=='0' and row['ArrivalDelay_in_Mins']<=2) else row['Arrival_time_convenient'],\n",
    "    axis=1\n",
    ")\n",
    "\n",
    "df_test['Arrival_time_convenient']=df_test.apply(\n",
    "    lambda row: 'acceptable' if (row['Arrival_time_convenient']=='0' and (row['ArrivalDelay_in_Mins']>2 and row['ArrivalDelay_in_Mins']<=100)) else row['Arrival_time_convenient'],\n",
    "    axis=1\n",
    ")\n",
    "\n",
    "df_test['Arrival_time_convenient']=df_test.apply(\n",
    "    lambda row: 'poor' if (row['Arrival_time_convenient']=='0' and (row['ArrivalDelay_in_Mins']>100 and row['ArrivalDelay_in_Mins']<=640)) else row['Arrival_time_convenient'],\n",
    "    axis=1\n",
    ")\n",
    "\n",
    "df_test['Arrival_time_convenient']=df_test.apply(\n",
    "    lambda row: 'good' if (row['Arrival_time_convenient']=='0' and (row['ArrivalDelay_in_Mins']>640 and row['ArrivalDelay_in_Mins']<=960)) else row['Arrival_time_convenient'],\n",
    "    axis=1\n",
    ")\n",
    "\n",
    "df_test['Arrival_time_convenient']=df_test.apply(\n",
    "    lambda row: 'extremely poor' if (row['Arrival_time_convenient']=='0' and (row['ArrivalDelay_in_Mins']>960 and row['ArrivalDelay_in_Mins']<=1280)) else row['Arrival_time_convenient'],\n",
    "    axis=1\n",
    ")\n",
    "\n",
    "df_test['Arrival_time_convenient']=df_test.apply(\n",
    "    lambda row: 'need improvement' if (row['Arrival_time_convenient']=='0' and (row['ArrivalDelay_in_Mins']>1280 and row['ArrivalDelay_in_Mins']<=1600)) else row['Arrival_time_convenient'],\n",
    "    axis=1\n",
    ")\n",
    "\n",
    "df_test['Arrival_time_convenient'].value_counts()"
   ]
  },
  {
   "cell_type": "code",
   "execution_count": 393,
   "metadata": {},
   "outputs": [
    {
     "name": "stdout",
     "output_type": "stream",
     "text": [
      "Number of missing values in Arrival_time_convenient: \n",
      " Train\t:\t0\n",
      " Test\t:\t0\n"
     ]
    }
   ],
   "source": [
    "nmstr=df_train['Arrival_time_convenient'].isnull().sum()\n",
    "nmste=df_test['Arrival_time_convenient'].isnull().sum()\n",
    "print(f'Number of missing values in Arrival_time_convenient: \\n Train\\t:\\t{nmstr}\\n Test\\t:\\t{nmste}')    "
   ]
  },
  {
   "cell_type": "code",
   "execution_count": 394,
   "metadata": {},
   "outputs": [
    {
     "name": "stdout",
     "output_type": "stream",
     "text": [
      "Number of missing values in TypeTravel: \n",
      " Train\t:\t9226\n",
      " Test\t:\t3448\n"
     ]
    }
   ],
   "source": [
    "nmstr=df_train['TypeTravel'].isnull().sum()\n",
    "nmste=df_test['TypeTravel'].isnull().sum()\n",
    "print(f'Number of missing values in TypeTravel: \\n Train\\t:\\t{nmstr}\\n Test\\t:\\t{nmste}')    "
   ]
  },
  {
   "cell_type": "code",
   "execution_count": 395,
   "metadata": {},
   "outputs": [
    {
     "data": {
      "text/plain": [
       "CustomerType       Travel_Class\n",
       "Loyal Customer     Business        Business travel\n",
       "                   Eco             Personal Travel\n",
       "disloyal Customer  Business        Business travel\n",
       "                   Eco             Business travel\n",
       "Name: TypeTravel, dtype: object"
      ]
     },
     "execution_count": 395,
     "metadata": {},
     "output_type": "execute_result"
    }
   ],
   "source": [
    "df_train.groupby(['CustomerType','Travel_Class'])['TypeTravel'].agg(pd.Series.mode)"
   ]
  },
  {
   "cell_type": "code",
   "execution_count": 396,
   "metadata": {},
   "outputs": [],
   "source": [
    "#Impute the Department with mode value of group by \"EductaionField\"\n",
    "df_train['TypeTravel'] = df_train.groupby(['CustomerType','Travel_Class'])['TypeTravel'].apply(lambda x: x.fillna(x.mode()[0]))\n",
    "df_test['TypeTravel'] = df_test.groupby(['CustomerType','Travel_Class'])['TypeTravel'].apply(lambda x: x.fillna(x.mode()[0]))"
   ]
  },
  {
   "cell_type": "code",
   "execution_count": 397,
   "metadata": {},
   "outputs": [
    {
     "name": "stdout",
     "output_type": "stream",
     "text": [
      "Number of missing values in TypeTravel: \n",
      " Train\t:\t0\n",
      " Test\t:\t0\n"
     ]
    }
   ],
   "source": [
    "nmstr=df_train['TypeTravel'].isnull().sum()\n",
    "nmste=df_test['TypeTravel'].isnull().sum()\n",
    "print(f'Number of missing values in TypeTravel: \\n Train\\t:\\t{nmstr}\\n Test\\t:\\t{nmste}')    "
   ]
  },
  {
   "cell_type": "code",
   "execution_count": 398,
   "metadata": {},
   "outputs": [
    {
     "name": "stdout",
     "output_type": "stream",
     "text": [
      "Number of missing values in TypeTravel: \n",
      " Train\t:\t0\n",
      " Test\t:\t0\n"
     ]
    }
   ],
   "source": [
    "nmstr=df_train['TypeTravel'].isnull().sum()\n",
    "nmste=df_test['TypeTravel'].isnull().sum()\n",
    "print(f'Number of missing values in TypeTravel: \\n Train\\t:\\t{nmstr}\\n Test\\t:\\t{nmste}')    "
   ]
  },
  {
   "cell_type": "code",
   "execution_count": 400,
   "metadata": {},
   "outputs": [],
   "source": [
    "cat = ['Gender','Seat_comfort','Catering','Platform_location',\n",
    "'Onboardwifi_service','Onboard_entertainment',\n",
    "'Online_support','Onlinebooking_Ease','Leg_room','Baggage_handling','Checkin_service','Cleanliness','Online_boarding']\n",
    "for i in cat:\n",
    "    df_train[i] = df_train[i].fillna(df_train[i].mode()[0])\n",
    "    df_test[i] = df_test[i].fillna(df_test[i].mode()[0])"
   ]
  },
  {
   "cell_type": "code",
   "execution_count": 402,
   "metadata": {},
   "outputs": [
    {
     "name": "stdout",
     "output_type": "stream",
     "text": [
      "Number of missing values in Onboard_service : \n",
      " Train\t:\t7601\n",
      " Test\t:\t2872\n"
     ]
    }
   ],
   "source": [
    "nmstr=df_train['Onboard_service'].isnull().sum()\n",
    "nmste=df_test['Onboard_service'].isnull().sum()\n",
    "print(f'Number of missing values in Onboard_service : \\n Train\\t:\\t{nmstr}\\n Test\\t:\\t{nmste}')    "
   ]
  },
  {
   "cell_type": "code",
   "execution_count": 401,
   "metadata": {},
   "outputs": [
    {
     "data": {
      "text/plain": [
       "Onboardwifi_service  Onboard_entertainment\n",
       "acceptable           acceptable                                  good\n",
       "                     excellent                                   good\n",
       "                     extremely poor                        acceptable\n",
       "                     good                                        good\n",
       "                     need improvement                            good\n",
       "                     poor                                        good\n",
       "excellent            acceptable                                  good\n",
       "                     excellent                                   good\n",
       "                     extremely poor                        acceptable\n",
       "                     good                                        good\n",
       "                     need improvement                            good\n",
       "                     poor                                        good\n",
       "extremely poor       acceptable               [acceptable, excellent]\n",
       "                     excellent                       need improvement\n",
       "                     good                                   excellent\n",
       "                     need improvement                            good\n",
       "                     poor                            need improvement\n",
       "good                 acceptable                                  good\n",
       "                     excellent                                   good\n",
       "                     extremely poor                              good\n",
       "                     good                                        good\n",
       "                     need improvement                            good\n",
       "                     poor                                        good\n",
       "need improvement     acceptable                                  good\n",
       "                     excellent                                   good\n",
       "                     extremely poor                              good\n",
       "                     good                                        good\n",
       "                     need improvement                      acceptable\n",
       "                     poor                                        good\n",
       "poor                 acceptable                            acceptable\n",
       "                     excellent                              excellent\n",
       "                     extremely poor                        acceptable\n",
       "                     good                                        good\n",
       "                     need improvement                            good\n",
       "                     poor                                        good\n",
       "Name: Onboard_service, dtype: object"
      ]
     },
     "execution_count": 401,
     "metadata": {},
     "output_type": "execute_result"
    }
   ],
   "source": [
    "df_train.groupby(['Onboardwifi_service','Onboard_entertainment'])['Onboard_service'].agg(pd.Series.mode)"
   ]
  },
  {
   "cell_type": "code",
   "execution_count": 403,
   "metadata": {},
   "outputs": [],
   "source": [
    "df_train['Onboard_service'] = df_train.groupby(['Onboardwifi_service','Onboard_entertainment'])['Onboard_service'].apply(lambda x: x.fillna(x.mode()[0]))\n",
    "df_test['Onboard_service'] = df_test.groupby(['Onboardwifi_service','Onboard_entertainment'])['Onboard_service'].apply(lambda x: x.fillna(x.mode()[0]))"
   ]
  },
  {
   "cell_type": "code",
   "execution_count": 404,
   "metadata": {},
   "outputs": [
    {
     "name": "stdout",
     "output_type": "stream",
     "text": [
      "\n",
      "****Missing Values in the Dataset****\n",
      "*************************************\n",
      "There is no missing values in the data.\n"
     ]
    }
   ],
   "source": [
    "#Check for missing value\n",
    "print('\\n****Missing Values in the Dataset****')\n",
    "print('*************************************')\n",
    "msv = df_train.isnull().sum()[df_train.isnull().sum()>0]\n",
    "if msv.empty:\n",
    "    print('There is no missing values in the data.') \n",
    "else:\n",
    "    for i in range(msv.count()):\n",
    "        print('{} Missing values in {} which is {}% of total data'.format(msv[i],msv.index[i],round(((msv[i]/df_train.shape[0])*100),2)))"
   ]
  },
  {
   "cell_type": "code",
   "execution_count": 405,
   "metadata": {},
   "outputs": [
    {
     "name": "stdout",
     "output_type": "stream",
     "text": [
      "\n",
      "****Missing Values in the Dataset****\n",
      "*************************************\n",
      "There is no missing values in the data.\n"
     ]
    }
   ],
   "source": [
    "#Check for missing value\n",
    "print('\\n****Missing Values in the Dataset****')\n",
    "print('*************************************')\n",
    "msv = df_test.isnull().sum()[df_test.isnull().sum()>0]\n",
    "if msv.empty:\n",
    "    print('There is no missing values in the data.') \n",
    "else:\n",
    "    for i in range(msv.count()):\n",
    "        print('{} Missing values in {} which is {}% of total data'.format(msv[i],msv.index[i],round(((msv[i]/df_test.shape[0])*100),2)))"
   ]
  },
  {
   "cell_type": "code",
   "execution_count": null,
   "metadata": {},
   "outputs": [
    {
     "data": {
      "text/plain": [
       "['ID',\n",
       " 'Age',\n",
       " 'Travel_Distance',\n",
       " 'DepartureDelay_in_Mins',\n",
       " 'ArrivalDelay_in_Mins',\n",
       " 'Overall_Experience']"
      ]
     },
     "execution_count": 293,
     "metadata": {},
     "output_type": "execute_result"
    }
   ],
   "source": [
    "num"
   ]
  },
  {
   "cell_type": "code",
   "execution_count": null,
   "metadata": {},
   "outputs": [],
   "source": [
    "# fig, axis=plt.subplots(nrows=4,ncols=2)\n",
    "# fig.set_size_inches(15,17)\n",
    "# fig.tight_layout()\n",
    "\n",
    "\n",
    "# for i in range(1,5):\n",
    "#     sns.distplot(df_train[num[i]],ax=axis[i-1][0]);\n",
    "#     sns.boxplot(df_train[num[i]],ax=axis[i-1][1]);"
   ]
  },
  {
   "cell_type": "code",
   "execution_count": null,
   "metadata": {},
   "outputs": [],
   "source": [
    "#Define the function to identify the outliers\n",
    "def remove_outlier(col):\n",
    "    sorted(col)\n",
    "    Q1,Q3=np.percentile(col,[25,75])\n",
    "    IQR=Q3-Q1\n",
    "    lower_range= Q1-(1.5 * IQR)\n",
    "    upper_range= Q3+(1.5 * IQR)\n",
    "    return lower_range, upper_range"
   ]
  },
  {
   "cell_type": "code",
   "execution_count": null,
   "metadata": {},
   "outputs": [],
   "source": [
    "# #Fix the outliers \n",
    "# columns = ['Travel_Distance','DepartureDelay_in_Mins','ArrivalDelay_in_Mins']\n",
    "# for column in columns:\n",
    "#     lr,ur=remove_outlier(df_train[column])\n",
    "#     df_train[column]=np.where(df_train[column]>ur,ur,df_train[column])"
   ]
  },
  {
   "cell_type": "code",
   "execution_count": null,
   "metadata": {},
   "outputs": [],
   "source": [
    "# fig, axis=plt.subplots(nrows=4,ncols=2)\n",
    "# fig.set_size_inches(15,17)\n",
    "# fig.tight_layout()\n",
    "\n",
    "\n",
    "# for i in range(1,5):\n",
    "#     sns.distplot(df_train[num[i]],ax=axis[i-1][0]);\n",
    "#     sns.boxplot(df_train[num[i]],ax=axis[i-1][1]);"
   ]
  },
  {
   "cell_type": "code",
   "execution_count": 406,
   "metadata": {},
   "outputs": [
    {
     "data": {
      "image/png": "[encoded data removed]",
      "text/plain": [
       "<Figure size 1296x936 with 2 Axes>"
      ]
     },
     "metadata": {
      "needs_background": "light"
     },
     "output_type": "display_data"
    }
   ],
   "source": [
    "#Heat map - Relationalship analysis\n",
    "plt.figure(figsize=(18,13))\n",
    "sns.heatmap(round(df_train.corr(),3),annot=True,mask=np.triu(df_train.corr(),+1));"
   ]
  },
  {
   "cell_type": "code",
   "execution_count": 407,
   "metadata": {},
   "outputs": [],
   "source": [
    "from sklearn.ensemble import RandomForestClassifier\n",
    "from IPython.display import HTML \n",
    "from sklearn.metrics import precision_recall_fscore_support as score\n",
    "from sklearn.metrics import classification_report,confusion_matrix,accuracy_score\n",
    "from sklearn.metrics import roc_auc_score,roc_curve,plot_confusion_matrix"
   ]
  },
  {
   "cell_type": "code",
   "execution_count": 408,
   "metadata": {},
   "outputs": [],
   "source": [
    "def display_dataframe(df):\n",
    "    numeric_col_mask = df.dtypes.apply(lambda d: issubclass(np.dtype(d).type, np.number))\n",
    "\n",
    "    # Dict used to center the table headers\n",
    "    d = dict(selector=\"th\",\n",
    "        props=[('text-align', 'center')])\n",
    "\n",
    "    # Style\n",
    "    display(df.style.set_properties(subset=df.columns[numeric_col_mask], # right-align the numeric columns and set their width\n",
    "                            **{'width':'5em', 'height':'3em','text-align':'right','border-color': 'white','border-style' :'solid'})\\\n",
    "            .set_properties(subset=df.columns[~numeric_col_mask], # left-align the non-numeric columns and set their width\n",
    "                            **{'width':'5em', 'text-align':'left'})\\\n",
    "            .format(lambda x: '{:,.0f}'.format(x) if x > 1e3 else '{:,.2f}'.format(x), # format the numeric values\n",
    "                    subset=pd.IndexSlice[:,df.columns[numeric_col_mask]])\\\n",
    "            .hide_index()\\\n",
    "#            .highlight_max('color: green')\\\n",
    "            .set_table_styles([d])) # center the header"
   ]
  },
  {
   "cell_type": "code",
   "execution_count": 409,
   "metadata": {},
   "outputs": [],
   "source": [
    "#AUC and ROC Value\n",
    "def roc_model(model_name,x,y):\n",
    "    # predict probabilities\n",
    "    probs = model_name.predict_proba(x)\n",
    "    # keep probabilities for the positive outcome only\n",
    "    probs = probs[:, 1]\n",
    "    # calculate AUC\n",
    "    from sklearn.metrics import roc_auc_score\n",
    "    auc = roc_auc_score(y, probs)\n",
    "    fpr, tpr, _ = roc_curve(y, probs)\n",
    "    return probs,auc,fpr,tpr"
   ]
  },
  {
   "cell_type": "code",
   "execution_count": 410,
   "metadata": {},
   "outputs": [],
   "source": [
    "def con_mat(y_train,y_predict_train,y_test,y_predict_test):\n",
    "    fig, axis=plt.subplots(nrows=1,ncols=2)\n",
    "    fig.set_size_inches(10,4)\n",
    "    fig.tight_layout()\n",
    "\n",
    "    cm=confusion_matrix(y_train,y_predict_train,labels=[0, 1])\n",
    "\n",
    "    df_cm = pd.DataFrame(cm, index = [i for i in [\"Conservative\",\"Labour\"]],\n",
    "    columns = [i for i in [\"Conservative\",\"Labour\"]])\n",
    "    sns.heatmap(df_cm, annot=True ,fmt='g',ax=axis[0])\n",
    "    axis[0].title.set_text('Confustion Matrix - Train Data')\n",
    "\n",
    "    cm=confusion_matrix(y_test,y_predict_test,labels=[0, 1])\n",
    "\n",
    "    df_cm = pd.DataFrame(cm, index = [i for i in [\"Conservative\",\"Labour\"]],\n",
    "    columns = [i for i in [\"Conservative\",\"Labour\"]])\n",
    "    sns.heatmap(df_cm, annot=True ,fmt='g',ax=axis[1])\n",
    "    axis[1].title.set_text('Confustion Matrix - Test Data')"
   ]
  },
  {
   "cell_type": "code",
   "execution_count": 411,
   "metadata": {},
   "outputs": [],
   "source": [
    "def scores_train_test(model,X_train,X_test,y_train,y_test,y_predict_train,y_predict_test,mname):\n",
    "    #model=bgcl\n",
    "\n",
    "\n",
    "    s = [[None for j in range(6)] for i in range(2)]\n",
    "\n",
    "    print(str(model).split('(')[0])\n",
    "    print('********************************\\n')\n",
    "\n",
    "    model_name = str(model).split('(')[0]\n",
    "    s[0][0] = model_name + '_' + mname +'_Train'\n",
    "    s[1][0] = model_name + '_' + mname +'_Test'\n",
    "\n",
    "    for prf in range(1,4):\n",
    "        s[0][prf]=round(score(y_train,y_predict_train)[prf-1][1]*100,2)\n",
    "        s[1][prf]= (round(score(y_test,y_predict_test)[prf-1][1]*100,2))\n",
    "\n",
    "    s[0][prf+1]=round(model.score(X_train,y_train)*100,2)\n",
    "    s[1][prf+1]=round(model.score(X_test,y_test)*100,2)    \n",
    "\n",
    "    probs, auc, fpr, tpr = roc_model(model,X_train,y_train)\n",
    "    probst, auc1, fpr1, tpr1 = roc_model(model,X_test,y_test)\n",
    "\n",
    "    s[0][prf+2]=round(auc*100,2)\n",
    "    s[1][prf+2]=round(auc1*100,2)\n",
    "\n",
    "    df = pd.DataFrame(data=s,columns=['Scores','Precision','Recall','F-Score','Accuracy','AUC'])\n",
    "\n",
    "    con_mat(y_train,y_predict_train,y_test,y_predict_test)\n",
    "\n",
    "    plt.figure(figsize=(5,5))\n",
    "\n",
    "    plt.plot(fpr,tpr, marker='o', label='AUC - Train:' + str(s[0][prf+2]))\n",
    "    plt.plot(fpr1,tpr1, marker='o', label='AUC - Test:' + str(s[1][prf+2]))\n",
    "\n",
    "    plt.legend(loc=\"lower right\")\n",
    "    plt.plot([0, 1], [0, 1], linestyle='--')\n",
    "    plt.xlabel('False Positive Rate')\n",
    "    plt.ylabel('True Positive Rate')\n",
    "    plt.title('ROC')\n",
    "\n",
    "    print('Display Metrics of Train and Test Data')\n",
    "    print('***************************************')\n",
    "\n",
    "    display_dataframe(df)\n",
    "    return(df)"
   ]
  },
  {
   "cell_type": "code",
   "execution_count": 412,
   "metadata": {},
   "outputs": [],
   "source": [
    "for feature in df_train.columns: \n",
    "    if df_train[feature].dtype == 'object': \n",
    "        df_train[feature] = pd.Categorical(df_train[feature]).codes\n",
    "\n",
    "        \n",
    "for feature in df_test.columns: \n",
    "    if df_test[feature].dtype == 'object': \n",
    "        df_test[feature] = pd.Categorical(df_test[feature]).codes"
   ]
  },
  {
   "cell_type": "code",
   "execution_count": 413,
   "metadata": {},
   "outputs": [],
   "source": [
    "tvar = 'Overall_Experience'"
   ]
  },
  {
   "cell_type": "code",
   "execution_count": 414,
   "metadata": {},
   "outputs": [],
   "source": [
    "X = df_train.drop(['ID',tvar], axis=1)\n",
    "y = df_train[tvar]"
   ]
  },
  {
   "cell_type": "code",
   "execution_count": 415,
   "metadata": {},
   "outputs": [],
   "source": [
    "from sklearn.model_selection import train_test_split\n",
    "X_train,X_test,y_train,y_test = train_test_split(X,y,test_size=.30,random_state=0)"
   ]
  },
  {
   "cell_type": "code",
   "execution_count": 416,
   "metadata": {},
   "outputs": [],
   "source": [
    "#Scale the data using feature scaling\n",
    "from sklearn.preprocessing import StandardScaler\n",
    "\n",
    "scaler = StandardScaler()"
   ]
  },
  {
   "cell_type": "code",
   "execution_count": 417,
   "metadata": {},
   "outputs": [],
   "source": [
    "sc_train = scaler.fit_transform(X_train)\n",
    "X_train_sc = pd.DataFrame(sc_train, index=X_train.index, columns=X_train.columns)"
   ]
  },
  {
   "cell_type": "code",
   "execution_count": 418,
   "metadata": {},
   "outputs": [],
   "source": [
    "sc_test = scaler.transform(X_test)\n",
    "X_test_sc = pd.DataFrame(sc_test, index=X_test.index, columns=X_test.columns)"
   ]
  },
  {
   "cell_type": "code",
   "execution_count": 438,
   "metadata": {},
   "outputs": [
    {
     "name": "stdout",
     "output_type": "stream",
     "text": [
      "RandomForestClassifier\n",
      "********************************\n",
      "\n",
      "Display Metrics of Train and Test Data\n",
      "***************************************\n"
     ]
    },
    {
     "data": {
      "text/html": [
       "<style  type=\"text/css\" >\n",
       "    #T_ccb39_ th {\n",
       "          text-align: center;\n",
       "    }#T_ccb39_row0_col0,#T_ccb39_row1_col0{\n",
       "            width:  5em;\n",
       "            text-align:  left;\n",
       "        }#T_ccb39_row0_col1,#T_ccb39_row0_col2,#T_ccb39_row0_col3,#T_ccb39_row0_col4,#T_ccb39_row0_col5,#T_ccb39_row1_col1,#T_ccb39_row1_col2,#T_ccb39_row1_col3,#T_ccb39_row1_col4,#T_ccb39_row1_col5{\n",
       "            width:  5em;\n",
       "            height:  3em;\n",
       "            text-align:  right;\n",
       "            border-color:  white;\n",
       "            border-style:  solid;\n",
       "        }</style><table id=\"T_ccb39_\" ><thead>    <tr>        <th class=\"col_heading level0 col0\" >Scores</th>        <th class=\"col_heading level0 col1\" >Precision</th>        <th class=\"col_heading level0 col2\" >Recall</th>        <th class=\"col_heading level0 col3\" >F-Score</th>        <th class=\"col_heading level0 col4\" >Accuracy</th>        <th class=\"col_heading level0 col5\" >AUC</th>    </tr></thead><tbody>\n",
       "                <tr>\n",
       "                                <td id=\"T_ccb39_row0_col0\" class=\"data row0 col0\" >RandomForestClassifier_Base_Train</td>\n",
       "                        <td id=\"T_ccb39_row0_col1\" class=\"data row0 col1\" >100.00</td>\n",
       "                        <td id=\"T_ccb39_row0_col2\" class=\"data row0 col2\" >100.00</td>\n",
       "                        <td id=\"T_ccb39_row0_col3\" class=\"data row0 col3\" >100.00</td>\n",
       "                        <td id=\"T_ccb39_row0_col4\" class=\"data row0 col4\" >100.00</td>\n",
       "                        <td id=\"T_ccb39_row0_col5\" class=\"data row0 col5\" >100.00</td>\n",
       "            </tr>\n",
       "            <tr>\n",
       "                                <td id=\"T_ccb39_row1_col0\" class=\"data row1 col0\" >RandomForestClassifier_Base_Test</td>\n",
       "                        <td id=\"T_ccb39_row1_col1\" class=\"data row1 col1\" >96.17</td>\n",
       "                        <td id=\"T_ccb39_row1_col2\" class=\"data row1 col2\" >94.37</td>\n",
       "                        <td id=\"T_ccb39_row1_col3\" class=\"data row1 col3\" >95.26</td>\n",
       "                        <td id=\"T_ccb39_row1_col4\" class=\"data row1 col4\" >94.90</td>\n",
       "                        <td id=\"T_ccb39_row1_col5\" class=\"data row1 col5\" >99.07</td>\n",
       "            </tr>\n",
       "    </tbody></table>"
      ],
      "text/plain": [
       "<pandas.io.formats.style.Styler at 0x143cbd100>"
      ]
     },
     "metadata": {},
     "output_type": "display_data"
    },
    {
     "data": {
      "image/png": "[encoded data removed]",
      "text/plain": [
       "<Figure size 720x288 with 4 Axes>"
      ]
     },
     "metadata": {
      "needs_background": "light"
     },
     "output_type": "display_data"
    },
    {
     "data": {
      "image/png": "[encoded data removed]",
      "text/plain": [
       "<Figure size 360x360 with 1 Axes>"
      ]
     },
     "metadata": {
      "needs_background": "light"
     },
     "output_type": "display_data"
    }
   ],
   "source": [
    "rfcl = RandomForestClassifier(random_state=0,max_features=14)\n",
    "\n",
    "rfcl.fit(X_train, y_train)\n",
    "rf_train = rfcl.predict(X_train)\n",
    "rf_test = rfcl.predict(X_test)\n",
    "\n",
    "res_df = scores_train_test(rfcl,X_train,X_test,y_train,y_test,rf_train,rf_test,'Base')"
   ]
  },
  {
   "cell_type": "code",
   "execution_count": null,
   "metadata": {},
   "outputs": [],
   "source": [
    "# features = X_train.columns\n",
    "# importances = rfcl.feature_importances_\n",
    "# indices = np.argsort(importances)\n",
    "\n",
    "# plt.title('Feature Importances')\n",
    "# plt.barh(range(len(indices)), importances[indices], color='b', align='center')\n",
    "# plt.yticks(range(len(indices)), [features[i] for i in indices])\n",
    "# plt.xlabel('Relative Importance')\n",
    "# plt.show()"
   ]
  },
  {
   "cell_type": "code",
   "execution_count": 420,
   "metadata": {},
   "outputs": [],
   "source": [
    "def rfrun(x_train,train_labels,x_test,max_f,no_est,max_dep,min_sam,min_spl):\n",
    "    param_grid = {\n",
    "        'criterion': ['gini'],\n",
    "        'max_depth': max_dep, #,7,9],\n",
    "        'max_features':max_f, #,32],\n",
    "        'min_samples_leaf': min_sam,#15,20],\n",
    "        'min_samples_split': min_spl,#75,60],\n",
    "        'n_estimators': no_est\n",
    "    }\n",
    "\n",
    "    rfcl = RandomForestClassifier(random_state=1)\n",
    "\n",
    "    grid_search = GridSearchCV(estimator = rfcl, param_grid = param_grid, cv = 5,scoring='accuracy')\n",
    "    grid_search.fit(x_train, train_labels)\n",
    "    print(grid_search.best_params_)\n",
    "    \n",
    "    rfcl = grid_search.best_estimator_\n",
    "    rfcl\n",
    "\n",
    "    rfcl_y_predict_train = rfcl.predict(x_train)\n",
    "    rfcl_y_predict_test = rfcl.predict(x_test)\n",
    "    return(rfcl,rfcl_y_predict_train,rfcl_y_predict_test)   "
   ]
  },
  {
   "cell_type": "code",
   "execution_count": 451,
   "metadata": {},
   "outputs": [
    {
     "ename": "KeyboardInterrupt",
     "evalue": "",
     "output_type": "error",
     "traceback": [
      "\u001b[0;31m---------------------------------------------------------------------------\u001b[0m",
      "\u001b[0;31mKeyboardInterrupt\u001b[0m                         Traceback (most recent call last)",
      "\u001b[0;32m<ipython-input-450-a2387e5d0eb9>\u001b[0m in \u001b[0;36m<module>\u001b[0;34m\u001b[0m\n\u001b[1;32m      1\u001b[0m \u001b[0;32mfrom\u001b[0m \u001b[0msklearn\u001b[0m\u001b[0;34m.\u001b[0m\u001b[0mmodel_selection\u001b[0m \u001b[0;32mimport\u001b[0m \u001b[0mGridSearchCV\u001b[0m\u001b[0;34m\u001b[0m\u001b[0;34m\u001b[0m\u001b[0m\n\u001b[0;32m----> 2\u001b[0;31m rfcl_tuned,rfcl_y_predict_train,rfcl_y_predict_test = rfrun(\n\u001b[0m\u001b[1;32m      3\u001b[0m     X_train,y_train,X_test,[13,17,21],[100,200,300],[15,17,25],[1,3],[3,6])\n\u001b[1;32m      4\u001b[0m \u001b[0;34m\u001b[0m\u001b[0m\n\u001b[1;32m      5\u001b[0m \u001b[0mres_df\u001b[0m \u001b[0;34m=\u001b[0m \u001b[0mscores_train_test\u001b[0m\u001b[0;34m(\u001b[0m\u001b[0mrfcl_tuned\u001b[0m\u001b[0;34m,\u001b[0m\u001b[0mX_train\u001b[0m\u001b[0;34m,\u001b[0m\u001b[0mX_test\u001b[0m\u001b[0;34m,\u001b[0m\u001b[0my_train\u001b[0m\u001b[0;34m,\u001b[0m\u001b[0my_test\u001b[0m\u001b[0;34m,\u001b[0m\u001b[0mrfcl_y_predict_train\u001b[0m\u001b[0;34m,\u001b[0m\u001b[0mrfcl_y_predict_test\u001b[0m\u001b[0;34m,\u001b[0m\u001b[0;34m'Tuned'\u001b[0m\u001b[0;34m)\u001b[0m\u001b[0;34m\u001b[0m\u001b[0;34m\u001b[0m\u001b[0m\n",
      "\u001b[0;32m<ipython-input-420-9de6e369a47f>\u001b[0m in \u001b[0;36mrfrun\u001b[0;34m(x_train, train_labels, x_test, max_f, no_est, max_dep, min_sam, min_spl)\u001b[0m\n\u001b[1;32m     12\u001b[0m \u001b[0;34m\u001b[0m\u001b[0m\n\u001b[1;32m     13\u001b[0m     \u001b[0mgrid_search\u001b[0m \u001b[0;34m=\u001b[0m \u001b[0mGridSearchCV\u001b[0m\u001b[0;34m(\u001b[0m\u001b[0mestimator\u001b[0m \u001b[0;34m=\u001b[0m \u001b[0mrfcl\u001b[0m\u001b[0;34m,\u001b[0m \u001b[0mparam_grid\u001b[0m \u001b[0;34m=\u001b[0m \u001b[0mparam_grid\u001b[0m\u001b[0;34m,\u001b[0m \u001b[0mcv\u001b[0m \u001b[0;34m=\u001b[0m \u001b[0;36m3\u001b[0m\u001b[0;34m,\u001b[0m\u001b[0mscoring\u001b[0m\u001b[0;34m=\u001b[0m\u001b[0;34m'accuracy'\u001b[0m\u001b[0;34m)\u001b[0m\u001b[0;34m\u001b[0m\u001b[0;34m\u001b[0m\u001b[0m\n\u001b[0;32m---> 14\u001b[0;31m     \u001b[0mgrid_search\u001b[0m\u001b[0;34m.\u001b[0m\u001b[0mfit\u001b[0m\u001b[0;34m(\u001b[0m\u001b[0mx_train\u001b[0m\u001b[0;34m,\u001b[0m \u001b[0mtrain_labels\u001b[0m\u001b[0;34m)\u001b[0m\u001b[0;34m\u001b[0m\u001b[0;34m\u001b[0m\u001b[0m\n\u001b[0m\u001b[1;32m     15\u001b[0m     \u001b[0mprint\u001b[0m\u001b[0;34m(\u001b[0m\u001b[0mgrid_search\u001b[0m\u001b[0;34m.\u001b[0m\u001b[0mbest_params_\u001b[0m\u001b[0;34m)\u001b[0m\u001b[0;34m\u001b[0m\u001b[0;34m\u001b[0m\u001b[0m\n\u001b[1;32m     16\u001b[0m \u001b[0;34m\u001b[0m\u001b[0m\n",
      "\u001b[0;32m~/miniforge3/lib/python3.9/site-packages/sklearn/utils/validation.py\u001b[0m in \u001b[0;36minner_f\u001b[0;34m(*args, **kwargs)\u001b[0m\n\u001b[1;32m     61\u001b[0m             \u001b[0mextra_args\u001b[0m \u001b[0;34m=\u001b[0m \u001b[0mlen\u001b[0m\u001b[0;34m(\u001b[0m\u001b[0margs\u001b[0m\u001b[0;34m)\u001b[0m \u001b[0;34m-\u001b[0m \u001b[0mlen\u001b[0m\u001b[0;34m(\u001b[0m\u001b[0mall_args\u001b[0m\u001b[0;34m)\u001b[0m\u001b[0;34m\u001b[0m\u001b[0;34m\u001b[0m\u001b[0m\n\u001b[1;32m     62\u001b[0m             \u001b[0;32mif\u001b[0m \u001b[0mextra_args\u001b[0m \u001b[0;34m<=\u001b[0m \u001b[0;36m0\u001b[0m\u001b[0;34m:\u001b[0m\u001b[0;34m\u001b[0m\u001b[0;34m\u001b[0m\u001b[0m\n\u001b[0;32m---> 63\u001b[0;31m                 \u001b[0;32mreturn\u001b[0m \u001b[0mf\u001b[0m\u001b[0;34m(\u001b[0m\u001b[0;34m*\u001b[0m\u001b[0margs\u001b[0m\u001b[0;34m,\u001b[0m \u001b[0;34m**\u001b[0m\u001b[0mkwargs\u001b[0m\u001b[0;34m)\u001b[0m\u001b[0;34m\u001b[0m\u001b[0;34m\u001b[0m\u001b[0m\n\u001b[0m\u001b[1;32m     64\u001b[0m \u001b[0;34m\u001b[0m\u001b[0m\n\u001b[1;32m     65\u001b[0m             \u001b[0;31m# extra_args > 0\u001b[0m\u001b[0;34m\u001b[0m\u001b[0;34m\u001b[0m\u001b[0;34m\u001b[0m\u001b[0m\n",
      "\u001b[0;32m~/miniforge3/lib/python3.9/site-packages/sklearn/model_selection/_search.py\u001b[0m in \u001b[0;36mfit\u001b[0;34m(self, X, y, groups, **fit_params)\u001b[0m\n\u001b[1;32m    839\u001b[0m                 \u001b[0;32mreturn\u001b[0m \u001b[0mresults\u001b[0m\u001b[0;34m\u001b[0m\u001b[0;34m\u001b[0m\u001b[0m\n\u001b[1;32m    840\u001b[0m \u001b[0;34m\u001b[0m\u001b[0m\n\u001b[0;32m--> 841\u001b[0;31m             \u001b[0mself\u001b[0m\u001b[0;34m.\u001b[0m\u001b[0m_run_search\u001b[0m\u001b[0;34m(\u001b[0m\u001b[0mevaluate_candidates\u001b[0m\u001b[0;34m)\u001b[0m\u001b[0;34m\u001b[0m\u001b[0;34m\u001b[0m\u001b[0m\n\u001b[0m\u001b[1;32m    842\u001b[0m \u001b[0;34m\u001b[0m\u001b[0m\n\u001b[1;32m    843\u001b[0m             \u001b[0;31m# multimetric is determined here because in the case of a callable\u001b[0m\u001b[0;34m\u001b[0m\u001b[0;34m\u001b[0m\u001b[0;34m\u001b[0m\u001b[0m\n",
      "\u001b[0;32m~/miniforge3/lib/python3.9/site-packages/sklearn/model_selection/_search.py\u001b[0m in \u001b[0;36m_run_search\u001b[0;34m(self, evaluate_candidates)\u001b[0m\n\u001b[1;32m   1286\u001b[0m     \u001b[0;32mdef\u001b[0m \u001b[0m_run_search\u001b[0m\u001b[0;34m(\u001b[0m\u001b[0mself\u001b[0m\u001b[0;34m,\u001b[0m \u001b[0mevaluate_candidates\u001b[0m\u001b[0;34m)\u001b[0m\u001b[0;34m:\u001b[0m\u001b[0;34m\u001b[0m\u001b[0;34m\u001b[0m\u001b[0m\n\u001b[1;32m   1287\u001b[0m         \u001b[0;34m\"\"\"Search all candidates in param_grid\"\"\"\u001b[0m\u001b[0;34m\u001b[0m\u001b[0;34m\u001b[0m\u001b[0m\n\u001b[0;32m-> 1288\u001b[0;31m         \u001b[0mevaluate_candidates\u001b[0m\u001b[0;34m(\u001b[0m\u001b[0mParameterGrid\u001b[0m\u001b[0;34m(\u001b[0m\u001b[0mself\u001b[0m\u001b[0;34m.\u001b[0m\u001b[0mparam_grid\u001b[0m\u001b[0;34m)\u001b[0m\u001b[0;34m)\u001b[0m\u001b[0;34m\u001b[0m\u001b[0;34m\u001b[0m\u001b[0m\n\u001b[0m\u001b[1;32m   1289\u001b[0m \u001b[0;34m\u001b[0m\u001b[0m\n\u001b[1;32m   1290\u001b[0m \u001b[0;34m\u001b[0m\u001b[0m\n",
      "\u001b[0;32m~/miniforge3/lib/python3.9/site-packages/sklearn/model_selection/_search.py\u001b[0m in \u001b[0;36mevaluate_candidates\u001b[0;34m(candidate_params, cv, more_results)\u001b[0m\n\u001b[1;32m    793\u001b[0m                               n_splits, n_candidates, n_candidates * n_splits))\n\u001b[1;32m    794\u001b[0m \u001b[0;34m\u001b[0m\u001b[0m\n\u001b[0;32m--> 795\u001b[0;31m                 out = parallel(delayed(_fit_and_score)(clone(base_estimator),\n\u001b[0m\u001b[1;32m    796\u001b[0m                                                        \u001b[0mX\u001b[0m\u001b[0;34m,\u001b[0m \u001b[0my\u001b[0m\u001b[0;34m,\u001b[0m\u001b[0;34m\u001b[0m\u001b[0;34m\u001b[0m\u001b[0m\n\u001b[1;32m    797\u001b[0m                                                        \u001b[0mtrain\u001b[0m\u001b[0;34m=\u001b[0m\u001b[0mtrain\u001b[0m\u001b[0;34m,\u001b[0m \u001b[0mtest\u001b[0m\u001b[0;34m=\u001b[0m\u001b[0mtest\u001b[0m\u001b[0;34m,\u001b[0m\u001b[0;34m\u001b[0m\u001b[0;34m\u001b[0m\u001b[0m\n",
      "\u001b[0;32m~/miniforge3/lib/python3.9/site-packages/joblib/parallel.py\u001b[0m in \u001b[0;36m__call__\u001b[0;34m(self, iterable)\u001b[0m\n\u001b[1;32m   1042\u001b[0m                 \u001b[0mself\u001b[0m\u001b[0;34m.\u001b[0m\u001b[0m_iterating\u001b[0m \u001b[0;34m=\u001b[0m \u001b[0mself\u001b[0m\u001b[0;34m.\u001b[0m\u001b[0m_original_iterator\u001b[0m \u001b[0;32mis\u001b[0m \u001b[0;32mnot\u001b[0m \u001b[0;32mNone\u001b[0m\u001b[0;34m\u001b[0m\u001b[0;34m\u001b[0m\u001b[0m\n\u001b[1;32m   1043\u001b[0m \u001b[0;34m\u001b[0m\u001b[0m\n\u001b[0;32m-> 1044\u001b[0;31m             \u001b[0;32mwhile\u001b[0m \u001b[0mself\u001b[0m\u001b[0;34m.\u001b[0m\u001b[0mdispatch_one_batch\u001b[0m\u001b[0;34m(\u001b[0m\u001b[0miterator\u001b[0m\u001b[0;34m)\u001b[0m\u001b[0;34m:\u001b[0m\u001b[0;34m\u001b[0m\u001b[0;34m\u001b[0m\u001b[0m\n\u001b[0m\u001b[1;32m   1045\u001b[0m                 \u001b[0;32mpass\u001b[0m\u001b[0;34m\u001b[0m\u001b[0;34m\u001b[0m\u001b[0m\n\u001b[1;32m   1046\u001b[0m \u001b[0;34m\u001b[0m\u001b[0m\n",
      "\u001b[0;32m~/miniforge3/lib/python3.9/site-packages/joblib/parallel.py\u001b[0m in \u001b[0;36mdispatch_one_batch\u001b[0;34m(self, iterator)\u001b[0m\n\u001b[1;32m    857\u001b[0m                 \u001b[0;32mreturn\u001b[0m \u001b[0;32mFalse\u001b[0m\u001b[0;34m\u001b[0m\u001b[0;34m\u001b[0m\u001b[0m\n\u001b[1;32m    858\u001b[0m             \u001b[0;32melse\u001b[0m\u001b[0;34m:\u001b[0m\u001b[0;34m\u001b[0m\u001b[0;34m\u001b[0m\u001b[0m\n\u001b[0;32m--> 859\u001b[0;31m                 \u001b[0mself\u001b[0m\u001b[0;34m.\u001b[0m\u001b[0m_dispatch\u001b[0m\u001b[0;34m(\u001b[0m\u001b[0mtasks\u001b[0m\u001b[0;34m)\u001b[0m\u001b[0;34m\u001b[0m\u001b[0;34m\u001b[0m\u001b[0m\n\u001b[0m\u001b[1;32m    860\u001b[0m                 \u001b[0;32mreturn\u001b[0m \u001b[0;32mTrue\u001b[0m\u001b[0;34m\u001b[0m\u001b[0;34m\u001b[0m\u001b[0m\n\u001b[1;32m    861\u001b[0m \u001b[0;34m\u001b[0m\u001b[0m\n",
      "\u001b[0;32m~/miniforge3/lib/python3.9/site-packages/joblib/parallel.py\u001b[0m in \u001b[0;36m_dispatch\u001b[0;34m(self, batch)\u001b[0m\n\u001b[1;32m    775\u001b[0m         \u001b[0;32mwith\u001b[0m \u001b[0mself\u001b[0m\u001b[0;34m.\u001b[0m\u001b[0m_lock\u001b[0m\u001b[0;34m:\u001b[0m\u001b[0;34m\u001b[0m\u001b[0;34m\u001b[0m\u001b[0m\n\u001b[1;32m    776\u001b[0m             \u001b[0mjob_idx\u001b[0m \u001b[0;34m=\u001b[0m \u001b[0mlen\u001b[0m\u001b[0;34m(\u001b[0m\u001b[0mself\u001b[0m\u001b[0;34m.\u001b[0m\u001b[0m_jobs\u001b[0m\u001b[0;34m)\u001b[0m\u001b[0;34m\u001b[0m\u001b[0;34m\u001b[0m\u001b[0m\n\u001b[0;32m--> 777\u001b[0;31m             \u001b[0mjob\u001b[0m \u001b[0;34m=\u001b[0m \u001b[0mself\u001b[0m\u001b[0;34m.\u001b[0m\u001b[0m_backend\u001b[0m\u001b[0;34m.\u001b[0m\u001b[0mapply_async\u001b[0m\u001b[0;34m(\u001b[0m\u001b[0mbatch\u001b[0m\u001b[0;34m,\u001b[0m \u001b[0mcallback\u001b[0m\u001b[0;34m=\u001b[0m\u001b[0mcb\u001b[0m\u001b[0;34m)\u001b[0m\u001b[0;34m\u001b[0m\u001b[0;34m\u001b[0m\u001b[0m\n\u001b[0m\u001b[1;32m    778\u001b[0m             \u001b[0;31m# A job can complete so quickly than its callback is\u001b[0m\u001b[0;34m\u001b[0m\u001b[0;34m\u001b[0m\u001b[0;34m\u001b[0m\u001b[0m\n\u001b[1;32m    779\u001b[0m             \u001b[0;31m# called before we get here, causing self._jobs to\u001b[0m\u001b[0;34m\u001b[0m\u001b[0;34m\u001b[0m\u001b[0;34m\u001b[0m\u001b[0m\n",
      "\u001b[0;32m~/miniforge3/lib/python3.9/site-packages/joblib/_parallel_backends.py\u001b[0m in \u001b[0;36mapply_async\u001b[0;34m(self, func, callback)\u001b[0m\n\u001b[1;32m    206\u001b[0m     \u001b[0;32mdef\u001b[0m \u001b[0mapply_async\u001b[0m\u001b[0;34m(\u001b[0m\u001b[0mself\u001b[0m\u001b[0;34m,\u001b[0m \u001b[0mfunc\u001b[0m\u001b[0;34m,\u001b[0m \u001b[0mcallback\u001b[0m\u001b[0;34m=\u001b[0m\u001b[0;32mNone\u001b[0m\u001b[0;34m)\u001b[0m\u001b[0;34m:\u001b[0m\u001b[0;34m\u001b[0m\u001b[0;34m\u001b[0m\u001b[0m\n\u001b[1;32m    207\u001b[0m         \u001b[0;34m\"\"\"Schedule a func to be run\"\"\"\u001b[0m\u001b[0;34m\u001b[0m\u001b[0;34m\u001b[0m\u001b[0m\n\u001b[0;32m--> 208\u001b[0;31m         \u001b[0mresult\u001b[0m \u001b[0;34m=\u001b[0m \u001b[0mImmediateResult\u001b[0m\u001b[0;34m(\u001b[0m\u001b[0mfunc\u001b[0m\u001b[0;34m)\u001b[0m\u001b[0;34m\u001b[0m\u001b[0;34m\u001b[0m\u001b[0m\n\u001b[0m\u001b[1;32m    209\u001b[0m         \u001b[0;32mif\u001b[0m \u001b[0mcallback\u001b[0m\u001b[0;34m:\u001b[0m\u001b[0;34m\u001b[0m\u001b[0;34m\u001b[0m\u001b[0m\n\u001b[1;32m    210\u001b[0m             \u001b[0mcallback\u001b[0m\u001b[0;34m(\u001b[0m\u001b[0mresult\u001b[0m\u001b[0;34m)\u001b[0m\u001b[0;34m\u001b[0m\u001b[0;34m\u001b[0m\u001b[0m\n",
      "\u001b[0;32m~/miniforge3/lib/python3.9/site-packages/joblib/_parallel_backends.py\u001b[0m in \u001b[0;36m__init__\u001b[0;34m(self, batch)\u001b[0m\n\u001b[1;32m    570\u001b[0m         \u001b[0;31m# Don't delay the application, to avoid keeping the input\u001b[0m\u001b[0;34m\u001b[0m\u001b[0;34m\u001b[0m\u001b[0;34m\u001b[0m\u001b[0m\n\u001b[1;32m    571\u001b[0m         \u001b[0;31m# arguments in memory\u001b[0m\u001b[0;34m\u001b[0m\u001b[0;34m\u001b[0m\u001b[0;34m\u001b[0m\u001b[0m\n\u001b[0;32m--> 572\u001b[0;31m         \u001b[0mself\u001b[0m\u001b[0;34m.\u001b[0m\u001b[0mresults\u001b[0m \u001b[0;34m=\u001b[0m \u001b[0mbatch\u001b[0m\u001b[0;34m(\u001b[0m\u001b[0;34m)\u001b[0m\u001b[0;34m\u001b[0m\u001b[0;34m\u001b[0m\u001b[0m\n\u001b[0m\u001b[1;32m    573\u001b[0m \u001b[0;34m\u001b[0m\u001b[0m\n\u001b[1;32m    574\u001b[0m     \u001b[0;32mdef\u001b[0m \u001b[0mget\u001b[0m\u001b[0;34m(\u001b[0m\u001b[0mself\u001b[0m\u001b[0;34m)\u001b[0m\u001b[0;34m:\u001b[0m\u001b[0;34m\u001b[0m\u001b[0;34m\u001b[0m\u001b[0m\n",
      "\u001b[0;32m~/miniforge3/lib/python3.9/site-packages/joblib/parallel.py\u001b[0m in \u001b[0;36m__call__\u001b[0;34m(self)\u001b[0m\n\u001b[1;32m    260\u001b[0m         \u001b[0;31m# change the default number of processes to -1\u001b[0m\u001b[0;34m\u001b[0m\u001b[0;34m\u001b[0m\u001b[0;34m\u001b[0m\u001b[0m\n\u001b[1;32m    261\u001b[0m         \u001b[0;32mwith\u001b[0m \u001b[0mparallel_backend\u001b[0m\u001b[0;34m(\u001b[0m\u001b[0mself\u001b[0m\u001b[0;34m.\u001b[0m\u001b[0m_backend\u001b[0m\u001b[0;34m,\u001b[0m \u001b[0mn_jobs\u001b[0m\u001b[0;34m=\u001b[0m\u001b[0mself\u001b[0m\u001b[0;34m.\u001b[0m\u001b[0m_n_jobs\u001b[0m\u001b[0;34m)\u001b[0m\u001b[0;34m:\u001b[0m\u001b[0;34m\u001b[0m\u001b[0;34m\u001b[0m\u001b[0m\n\u001b[0;32m--> 262\u001b[0;31m             return [func(*args, **kwargs)\n\u001b[0m\u001b[1;32m    263\u001b[0m                     for func, args, kwargs in self.items]\n\u001b[1;32m    264\u001b[0m \u001b[0;34m\u001b[0m\u001b[0m\n",
      "\u001b[0;32m~/miniforge3/lib/python3.9/site-packages/joblib/parallel.py\u001b[0m in \u001b[0;36m<listcomp>\u001b[0;34m(.0)\u001b[0m\n\u001b[1;32m    260\u001b[0m         \u001b[0;31m# change the default number of processes to -1\u001b[0m\u001b[0;34m\u001b[0m\u001b[0;34m\u001b[0m\u001b[0;34m\u001b[0m\u001b[0m\n\u001b[1;32m    261\u001b[0m         \u001b[0;32mwith\u001b[0m \u001b[0mparallel_backend\u001b[0m\u001b[0;34m(\u001b[0m\u001b[0mself\u001b[0m\u001b[0;34m.\u001b[0m\u001b[0m_backend\u001b[0m\u001b[0;34m,\u001b[0m \u001b[0mn_jobs\u001b[0m\u001b[0;34m=\u001b[0m\u001b[0mself\u001b[0m\u001b[0;34m.\u001b[0m\u001b[0m_n_jobs\u001b[0m\u001b[0;34m)\u001b[0m\u001b[0;34m:\u001b[0m\u001b[0;34m\u001b[0m\u001b[0;34m\u001b[0m\u001b[0m\n\u001b[0;32m--> 262\u001b[0;31m             return [func(*args, **kwargs)\n\u001b[0m\u001b[1;32m    263\u001b[0m                     for func, args, kwargs in self.items]\n\u001b[1;32m    264\u001b[0m \u001b[0;34m\u001b[0m\u001b[0m\n",
      "\u001b[0;32m~/miniforge3/lib/python3.9/site-packages/sklearn/utils/fixes.py\u001b[0m in \u001b[0;36m__call__\u001b[0;34m(self, *args, **kwargs)\u001b[0m\n\u001b[1;32m    220\u001b[0m     \u001b[0;32mdef\u001b[0m \u001b[0m__call__\u001b[0m\u001b[0;34m(\u001b[0m\u001b[0mself\u001b[0m\u001b[0;34m,\u001b[0m \u001b[0;34m*\u001b[0m\u001b[0margs\u001b[0m\u001b[0;34m,\u001b[0m \u001b[0;34m**\u001b[0m\u001b[0mkwargs\u001b[0m\u001b[0;34m)\u001b[0m\u001b[0;34m:\u001b[0m\u001b[0;34m\u001b[0m\u001b[0;34m\u001b[0m\u001b[0m\n\u001b[1;32m    221\u001b[0m         \u001b[0;32mwith\u001b[0m \u001b[0mconfig_context\u001b[0m\u001b[0;34m(\u001b[0m\u001b[0;34m**\u001b[0m\u001b[0mself\u001b[0m\u001b[0;34m.\u001b[0m\u001b[0mconfig\u001b[0m\u001b[0;34m)\u001b[0m\u001b[0;34m:\u001b[0m\u001b[0;34m\u001b[0m\u001b[0;34m\u001b[0m\u001b[0m\n\u001b[0;32m--> 222\u001b[0;31m             \u001b[0;32mreturn\u001b[0m \u001b[0mself\u001b[0m\u001b[0;34m.\u001b[0m\u001b[0mfunction\u001b[0m\u001b[0;34m(\u001b[0m\u001b[0;34m*\u001b[0m\u001b[0margs\u001b[0m\u001b[0;34m,\u001b[0m \u001b[0;34m**\u001b[0m\u001b[0mkwargs\u001b[0m\u001b[0;34m)\u001b[0m\u001b[0;34m\u001b[0m\u001b[0;34m\u001b[0m\u001b[0m\n\u001b[0m",
      "\u001b[0;32m~/miniforge3/lib/python3.9/site-packages/sklearn/model_selection/_validation.py\u001b[0m in \u001b[0;36m_fit_and_score\u001b[0;34m(estimator, X, y, scorer, train, test, verbose, parameters, fit_params, return_train_score, return_parameters, return_n_test_samples, return_times, return_estimator, split_progress, candidate_progress, error_score)\u001b[0m\n\u001b[1;32m    591\u001b[0m             \u001b[0mestimator\u001b[0m\u001b[0;34m.\u001b[0m\u001b[0mfit\u001b[0m\u001b[0;34m(\u001b[0m\u001b[0mX_train\u001b[0m\u001b[0;34m,\u001b[0m \u001b[0;34m**\u001b[0m\u001b[0mfit_params\u001b[0m\u001b[0;34m)\u001b[0m\u001b[0;34m\u001b[0m\u001b[0;34m\u001b[0m\u001b[0m\n\u001b[1;32m    592\u001b[0m         \u001b[0;32melse\u001b[0m\u001b[0;34m:\u001b[0m\u001b[0;34m\u001b[0m\u001b[0;34m\u001b[0m\u001b[0m\n\u001b[0;32m--> 593\u001b[0;31m             \u001b[0mestimator\u001b[0m\u001b[0;34m.\u001b[0m\u001b[0mfit\u001b[0m\u001b[0;34m(\u001b[0m\u001b[0mX_train\u001b[0m\u001b[0;34m,\u001b[0m \u001b[0my_train\u001b[0m\u001b[0;34m,\u001b[0m \u001b[0;34m**\u001b[0m\u001b[0mfit_params\u001b[0m\u001b[0;34m)\u001b[0m\u001b[0;34m\u001b[0m\u001b[0;34m\u001b[0m\u001b[0m\n\u001b[0m\u001b[1;32m    594\u001b[0m \u001b[0;34m\u001b[0m\u001b[0m\n\u001b[1;32m    595\u001b[0m     \u001b[0;32mexcept\u001b[0m \u001b[0mException\u001b[0m \u001b[0;32mas\u001b[0m \u001b[0me\u001b[0m\u001b[0;34m:\u001b[0m\u001b[0;34m\u001b[0m\u001b[0;34m\u001b[0m\u001b[0m\n",
      "\u001b[0;32m~/miniforge3/lib/python3.9/site-packages/sklearn/ensemble/_forest.py\u001b[0m in \u001b[0;36mfit\u001b[0;34m(self, X, y, sample_weight)\u001b[0m\n\u001b[1;32m    385\u001b[0m             \u001b[0;31m# parallel_backend contexts set at a higher level,\u001b[0m\u001b[0;34m\u001b[0m\u001b[0;34m\u001b[0m\u001b[0;34m\u001b[0m\u001b[0m\n\u001b[1;32m    386\u001b[0m             \u001b[0;31m# since correctness does not rely on using threads.\u001b[0m\u001b[0;34m\u001b[0m\u001b[0;34m\u001b[0m\u001b[0;34m\u001b[0m\u001b[0m\n\u001b[0;32m--> 387\u001b[0;31m             trees = Parallel(n_jobs=self.n_jobs, verbose=self.verbose,\n\u001b[0m\u001b[1;32m    388\u001b[0m                              \u001b[0;34m**\u001b[0m\u001b[0m_joblib_parallel_args\u001b[0m\u001b[0;34m(\u001b[0m\u001b[0mprefer\u001b[0m\u001b[0;34m=\u001b[0m\u001b[0;34m'threads'\u001b[0m\u001b[0;34m)\u001b[0m\u001b[0;34m)\u001b[0m\u001b[0;34m(\u001b[0m\u001b[0;34m\u001b[0m\u001b[0;34m\u001b[0m\u001b[0m\n\u001b[1;32m    389\u001b[0m                 delayed(_parallel_build_trees)(\n",
      "\u001b[0;32m~/miniforge3/lib/python3.9/site-packages/joblib/parallel.py\u001b[0m in \u001b[0;36m__call__\u001b[0;34m(self, iterable)\u001b[0m\n\u001b[1;32m   1042\u001b[0m                 \u001b[0mself\u001b[0m\u001b[0;34m.\u001b[0m\u001b[0m_iterating\u001b[0m \u001b[0;34m=\u001b[0m \u001b[0mself\u001b[0m\u001b[0;34m.\u001b[0m\u001b[0m_original_iterator\u001b[0m \u001b[0;32mis\u001b[0m \u001b[0;32mnot\u001b[0m \u001b[0;32mNone\u001b[0m\u001b[0;34m\u001b[0m\u001b[0;34m\u001b[0m\u001b[0m\n\u001b[1;32m   1043\u001b[0m \u001b[0;34m\u001b[0m\u001b[0m\n\u001b[0;32m-> 1044\u001b[0;31m             \u001b[0;32mwhile\u001b[0m \u001b[0mself\u001b[0m\u001b[0;34m.\u001b[0m\u001b[0mdispatch_one_batch\u001b[0m\u001b[0;34m(\u001b[0m\u001b[0miterator\u001b[0m\u001b[0;34m)\u001b[0m\u001b[0;34m:\u001b[0m\u001b[0;34m\u001b[0m\u001b[0;34m\u001b[0m\u001b[0m\n\u001b[0m\u001b[1;32m   1045\u001b[0m                 \u001b[0;32mpass\u001b[0m\u001b[0;34m\u001b[0m\u001b[0;34m\u001b[0m\u001b[0m\n\u001b[1;32m   1046\u001b[0m \u001b[0;34m\u001b[0m\u001b[0m\n",
      "\u001b[0;32m~/miniforge3/lib/python3.9/site-packages/joblib/parallel.py\u001b[0m in \u001b[0;36mdispatch_one_batch\u001b[0;34m(self, iterator)\u001b[0m\n\u001b[1;32m    857\u001b[0m                 \u001b[0;32mreturn\u001b[0m \u001b[0;32mFalse\u001b[0m\u001b[0;34m\u001b[0m\u001b[0;34m\u001b[0m\u001b[0m\n\u001b[1;32m    858\u001b[0m             \u001b[0;32melse\u001b[0m\u001b[0;34m:\u001b[0m\u001b[0;34m\u001b[0m\u001b[0;34m\u001b[0m\u001b[0m\n\u001b[0;32m--> 859\u001b[0;31m                 \u001b[0mself\u001b[0m\u001b[0;34m.\u001b[0m\u001b[0m_dispatch\u001b[0m\u001b[0;34m(\u001b[0m\u001b[0mtasks\u001b[0m\u001b[0;34m)\u001b[0m\u001b[0;34m\u001b[0m\u001b[0;34m\u001b[0m\u001b[0m\n\u001b[0m\u001b[1;32m    860\u001b[0m                 \u001b[0;32mreturn\u001b[0m \u001b[0;32mTrue\u001b[0m\u001b[0;34m\u001b[0m\u001b[0;34m\u001b[0m\u001b[0m\n\u001b[1;32m    861\u001b[0m \u001b[0;34m\u001b[0m\u001b[0m\n",
      "\u001b[0;32m~/miniforge3/lib/python3.9/site-packages/joblib/parallel.py\u001b[0m in \u001b[0;36m_dispatch\u001b[0;34m(self, batch)\u001b[0m\n\u001b[1;32m    775\u001b[0m         \u001b[0;32mwith\u001b[0m \u001b[0mself\u001b[0m\u001b[0;34m.\u001b[0m\u001b[0m_lock\u001b[0m\u001b[0;34m:\u001b[0m\u001b[0;34m\u001b[0m\u001b[0;34m\u001b[0m\u001b[0m\n\u001b[1;32m    776\u001b[0m             \u001b[0mjob_idx\u001b[0m \u001b[0;34m=\u001b[0m \u001b[0mlen\u001b[0m\u001b[0;34m(\u001b[0m\u001b[0mself\u001b[0m\u001b[0;34m.\u001b[0m\u001b[0m_jobs\u001b[0m\u001b[0;34m)\u001b[0m\u001b[0;34m\u001b[0m\u001b[0;34m\u001b[0m\u001b[0m\n\u001b[0;32m--> 777\u001b[0;31m             \u001b[0mjob\u001b[0m \u001b[0;34m=\u001b[0m \u001b[0mself\u001b[0m\u001b[0;34m.\u001b[0m\u001b[0m_backend\u001b[0m\u001b[0;34m.\u001b[0m\u001b[0mapply_async\u001b[0m\u001b[0;34m(\u001b[0m\u001b[0mbatch\u001b[0m\u001b[0;34m,\u001b[0m \u001b[0mcallback\u001b[0m\u001b[0;34m=\u001b[0m\u001b[0mcb\u001b[0m\u001b[0;34m)\u001b[0m\u001b[0;34m\u001b[0m\u001b[0;34m\u001b[0m\u001b[0m\n\u001b[0m\u001b[1;32m    778\u001b[0m             \u001b[0;31m# A job can complete so quickly than its callback is\u001b[0m\u001b[0;34m\u001b[0m\u001b[0;34m\u001b[0m\u001b[0;34m\u001b[0m\u001b[0m\n\u001b[1;32m    779\u001b[0m             \u001b[0;31m# called before we get here, causing self._jobs to\u001b[0m\u001b[0;34m\u001b[0m\u001b[0;34m\u001b[0m\u001b[0;34m\u001b[0m\u001b[0m\n",
      "\u001b[0;32m~/miniforge3/lib/python3.9/site-packages/joblib/_parallel_backends.py\u001b[0m in \u001b[0;36mapply_async\u001b[0;34m(self, func, callback)\u001b[0m\n\u001b[1;32m    206\u001b[0m     \u001b[0;32mdef\u001b[0m \u001b[0mapply_async\u001b[0m\u001b[0;34m(\u001b[0m\u001b[0mself\u001b[0m\u001b[0;34m,\u001b[0m \u001b[0mfunc\u001b[0m\u001b[0;34m,\u001b[0m \u001b[0mcallback\u001b[0m\u001b[0;34m=\u001b[0m\u001b[0;32mNone\u001b[0m\u001b[0;34m)\u001b[0m\u001b[0;34m:\u001b[0m\u001b[0;34m\u001b[0m\u001b[0;34m\u001b[0m\u001b[0m\n\u001b[1;32m    207\u001b[0m         \u001b[0;34m\"\"\"Schedule a func to be run\"\"\"\u001b[0m\u001b[0;34m\u001b[0m\u001b[0;34m\u001b[0m\u001b[0m\n\u001b[0;32m--> 208\u001b[0;31m         \u001b[0mresult\u001b[0m \u001b[0;34m=\u001b[0m \u001b[0mImmediateResult\u001b[0m\u001b[0;34m(\u001b[0m\u001b[0mfunc\u001b[0m\u001b[0;34m)\u001b[0m\u001b[0;34m\u001b[0m\u001b[0;34m\u001b[0m\u001b[0m\n\u001b[0m\u001b[1;32m    209\u001b[0m         \u001b[0;32mif\u001b[0m \u001b[0mcallback\u001b[0m\u001b[0;34m:\u001b[0m\u001b[0;34m\u001b[0m\u001b[0;34m\u001b[0m\u001b[0m\n\u001b[1;32m    210\u001b[0m             \u001b[0mcallback\u001b[0m\u001b[0;34m(\u001b[0m\u001b[0mresult\u001b[0m\u001b[0;34m)\u001b[0m\u001b[0;34m\u001b[0m\u001b[0;34m\u001b[0m\u001b[0m\n",
      "\u001b[0;32m~/miniforge3/lib/python3.9/site-packages/joblib/_parallel_backends.py\u001b[0m in \u001b[0;36m__init__\u001b[0;34m(self, batch)\u001b[0m\n\u001b[1;32m    570\u001b[0m         \u001b[0;31m# Don't delay the application, to avoid keeping the input\u001b[0m\u001b[0;34m\u001b[0m\u001b[0;34m\u001b[0m\u001b[0;34m\u001b[0m\u001b[0m\n\u001b[1;32m    571\u001b[0m         \u001b[0;31m# arguments in memory\u001b[0m\u001b[0;34m\u001b[0m\u001b[0;34m\u001b[0m\u001b[0;34m\u001b[0m\u001b[0m\n\u001b[0;32m--> 572\u001b[0;31m         \u001b[0mself\u001b[0m\u001b[0;34m.\u001b[0m\u001b[0mresults\u001b[0m \u001b[0;34m=\u001b[0m \u001b[0mbatch\u001b[0m\u001b[0;34m(\u001b[0m\u001b[0;34m)\u001b[0m\u001b[0;34m\u001b[0m\u001b[0;34m\u001b[0m\u001b[0m\n\u001b[0m\u001b[1;32m    573\u001b[0m \u001b[0;34m\u001b[0m\u001b[0m\n\u001b[1;32m    574\u001b[0m     \u001b[0;32mdef\u001b[0m \u001b[0mget\u001b[0m\u001b[0;34m(\u001b[0m\u001b[0mself\u001b[0m\u001b[0;34m)\u001b[0m\u001b[0;34m:\u001b[0m\u001b[0;34m\u001b[0m\u001b[0;34m\u001b[0m\u001b[0m\n",
      "\u001b[0;32m~/miniforge3/lib/python3.9/site-packages/joblib/parallel.py\u001b[0m in \u001b[0;36m__call__\u001b[0;34m(self)\u001b[0m\n\u001b[1;32m    260\u001b[0m         \u001b[0;31m# change the default number of processes to -1\u001b[0m\u001b[0;34m\u001b[0m\u001b[0;34m\u001b[0m\u001b[0;34m\u001b[0m\u001b[0m\n\u001b[1;32m    261\u001b[0m         \u001b[0;32mwith\u001b[0m \u001b[0mparallel_backend\u001b[0m\u001b[0;34m(\u001b[0m\u001b[0mself\u001b[0m\u001b[0;34m.\u001b[0m\u001b[0m_backend\u001b[0m\u001b[0;34m,\u001b[0m \u001b[0mn_jobs\u001b[0m\u001b[0;34m=\u001b[0m\u001b[0mself\u001b[0m\u001b[0;34m.\u001b[0m\u001b[0m_n_jobs\u001b[0m\u001b[0;34m)\u001b[0m\u001b[0;34m:\u001b[0m\u001b[0;34m\u001b[0m\u001b[0;34m\u001b[0m\u001b[0m\n\u001b[0;32m--> 262\u001b[0;31m             return [func(*args, **kwargs)\n\u001b[0m\u001b[1;32m    263\u001b[0m                     for func, args, kwargs in self.items]\n\u001b[1;32m    264\u001b[0m \u001b[0;34m\u001b[0m\u001b[0m\n",
      "\u001b[0;32m~/miniforge3/lib/python3.9/site-packages/joblib/parallel.py\u001b[0m in \u001b[0;36m<listcomp>\u001b[0;34m(.0)\u001b[0m\n\u001b[1;32m    260\u001b[0m         \u001b[0;31m# change the default number of processes to -1\u001b[0m\u001b[0;34m\u001b[0m\u001b[0;34m\u001b[0m\u001b[0;34m\u001b[0m\u001b[0m\n\u001b[1;32m    261\u001b[0m         \u001b[0;32mwith\u001b[0m \u001b[0mparallel_backend\u001b[0m\u001b[0;34m(\u001b[0m\u001b[0mself\u001b[0m\u001b[0;34m.\u001b[0m\u001b[0m_backend\u001b[0m\u001b[0;34m,\u001b[0m \u001b[0mn_jobs\u001b[0m\u001b[0;34m=\u001b[0m\u001b[0mself\u001b[0m\u001b[0;34m.\u001b[0m\u001b[0m_n_jobs\u001b[0m\u001b[0;34m)\u001b[0m\u001b[0;34m:\u001b[0m\u001b[0;34m\u001b[0m\u001b[0;34m\u001b[0m\u001b[0m\n\u001b[0;32m--> 262\u001b[0;31m             return [func(*args, **kwargs)\n\u001b[0m\u001b[1;32m    263\u001b[0m                     for func, args, kwargs in self.items]\n\u001b[1;32m    264\u001b[0m \u001b[0;34m\u001b[0m\u001b[0m\n",
      "\u001b[0;32m~/miniforge3/lib/python3.9/site-packages/sklearn/utils/fixes.py\u001b[0m in \u001b[0;36m__call__\u001b[0;34m(self, *args, **kwargs)\u001b[0m\n\u001b[1;32m    220\u001b[0m     \u001b[0;32mdef\u001b[0m \u001b[0m__call__\u001b[0m\u001b[0;34m(\u001b[0m\u001b[0mself\u001b[0m\u001b[0;34m,\u001b[0m \u001b[0;34m*\u001b[0m\u001b[0margs\u001b[0m\u001b[0;34m,\u001b[0m \u001b[0;34m**\u001b[0m\u001b[0mkwargs\u001b[0m\u001b[0;34m)\u001b[0m\u001b[0;34m:\u001b[0m\u001b[0;34m\u001b[0m\u001b[0;34m\u001b[0m\u001b[0m\n\u001b[1;32m    221\u001b[0m         \u001b[0;32mwith\u001b[0m \u001b[0mconfig_context\u001b[0m\u001b[0;34m(\u001b[0m\u001b[0;34m**\u001b[0m\u001b[0mself\u001b[0m\u001b[0;34m.\u001b[0m\u001b[0mconfig\u001b[0m\u001b[0;34m)\u001b[0m\u001b[0;34m:\u001b[0m\u001b[0;34m\u001b[0m\u001b[0;34m\u001b[0m\u001b[0m\n\u001b[0;32m--> 222\u001b[0;31m             \u001b[0;32mreturn\u001b[0m \u001b[0mself\u001b[0m\u001b[0;34m.\u001b[0m\u001b[0mfunction\u001b[0m\u001b[0;34m(\u001b[0m\u001b[0;34m*\u001b[0m\u001b[0margs\u001b[0m\u001b[0;34m,\u001b[0m \u001b[0;34m**\u001b[0m\u001b[0mkwargs\u001b[0m\u001b[0;34m)\u001b[0m\u001b[0;34m\u001b[0m\u001b[0;34m\u001b[0m\u001b[0m\n\u001b[0m",
      "\u001b[0;32m~/miniforge3/lib/python3.9/site-packages/sklearn/ensemble/_forest.py\u001b[0m in \u001b[0;36m_parallel_build_trees\u001b[0;34m(tree, forest, X, y, sample_weight, tree_idx, n_trees, verbose, class_weight, n_samples_bootstrap)\u001b[0m\n\u001b[1;32m    167\u001b[0m                                                         indices=indices)\n\u001b[1;32m    168\u001b[0m \u001b[0;34m\u001b[0m\u001b[0m\n\u001b[0;32m--> 169\u001b[0;31m         \u001b[0mtree\u001b[0m\u001b[0;34m.\u001b[0m\u001b[0mfit\u001b[0m\u001b[0;34m(\u001b[0m\u001b[0mX\u001b[0m\u001b[0;34m,\u001b[0m \u001b[0my\u001b[0m\u001b[0;34m,\u001b[0m \u001b[0msample_weight\u001b[0m\u001b[0;34m=\u001b[0m\u001b[0mcurr_sample_weight\u001b[0m\u001b[0;34m,\u001b[0m \u001b[0mcheck_input\u001b[0m\u001b[0;34m=\u001b[0m\u001b[0;32mFalse\u001b[0m\u001b[0;34m)\u001b[0m\u001b[0;34m\u001b[0m\u001b[0;34m\u001b[0m\u001b[0m\n\u001b[0m\u001b[1;32m    170\u001b[0m     \u001b[0;32melse\u001b[0m\u001b[0;34m:\u001b[0m\u001b[0;34m\u001b[0m\u001b[0;34m\u001b[0m\u001b[0m\n\u001b[1;32m    171\u001b[0m         \u001b[0mtree\u001b[0m\u001b[0;34m.\u001b[0m\u001b[0mfit\u001b[0m\u001b[0;34m(\u001b[0m\u001b[0mX\u001b[0m\u001b[0;34m,\u001b[0m \u001b[0my\u001b[0m\u001b[0;34m,\u001b[0m \u001b[0msample_weight\u001b[0m\u001b[0;34m=\u001b[0m\u001b[0msample_weight\u001b[0m\u001b[0;34m,\u001b[0m \u001b[0mcheck_input\u001b[0m\u001b[0;34m=\u001b[0m\u001b[0;32mFalse\u001b[0m\u001b[0;34m)\u001b[0m\u001b[0;34m\u001b[0m\u001b[0;34m\u001b[0m\u001b[0m\n",
      "\u001b[0;32m~/miniforge3/lib/python3.9/site-packages/sklearn/tree/_classes.py\u001b[0m in \u001b[0;36mfit\u001b[0;34m(self, X, y, sample_weight, check_input, X_idx_sorted)\u001b[0m\n\u001b[1;32m    896\u001b[0m         \"\"\"\n\u001b[1;32m    897\u001b[0m \u001b[0;34m\u001b[0m\u001b[0m\n\u001b[0;32m--> 898\u001b[0;31m         super().fit(\n\u001b[0m\u001b[1;32m    899\u001b[0m             \u001b[0mX\u001b[0m\u001b[0;34m,\u001b[0m \u001b[0my\u001b[0m\u001b[0;34m,\u001b[0m\u001b[0;34m\u001b[0m\u001b[0;34m\u001b[0m\u001b[0m\n\u001b[1;32m    900\u001b[0m             \u001b[0msample_weight\u001b[0m\u001b[0;34m=\u001b[0m\u001b[0msample_weight\u001b[0m\u001b[0;34m,\u001b[0m\u001b[0;34m\u001b[0m\u001b[0;34m\u001b[0m\u001b[0m\n",
      "\u001b[0;32m~/miniforge3/lib/python3.9/site-packages/sklearn/tree/_classes.py\u001b[0m in \u001b[0;36mfit\u001b[0;34m(self, X, y, sample_weight, check_input, X_idx_sorted)\u001b[0m\n\u001b[1;32m    387\u001b[0m                                            min_impurity_split)\n\u001b[1;32m    388\u001b[0m \u001b[0;34m\u001b[0m\u001b[0m\n\u001b[0;32m--> 389\u001b[0;31m         \u001b[0mbuilder\u001b[0m\u001b[0;34m.\u001b[0m\u001b[0mbuild\u001b[0m\u001b[0;34m(\u001b[0m\u001b[0mself\u001b[0m\u001b[0;34m.\u001b[0m\u001b[0mtree_\u001b[0m\u001b[0;34m,\u001b[0m \u001b[0mX\u001b[0m\u001b[0;34m,\u001b[0m \u001b[0my\u001b[0m\u001b[0;34m,\u001b[0m \u001b[0msample_weight\u001b[0m\u001b[0;34m)\u001b[0m\u001b[0;34m\u001b[0m\u001b[0;34m\u001b[0m\u001b[0m\n\u001b[0m\u001b[1;32m    390\u001b[0m \u001b[0;34m\u001b[0m\u001b[0m\n\u001b[1;32m    391\u001b[0m         \u001b[0;32mif\u001b[0m \u001b[0mself\u001b[0m\u001b[0;34m.\u001b[0m\u001b[0mn_outputs_\u001b[0m \u001b[0;34m==\u001b[0m \u001b[0;36m1\u001b[0m \u001b[0;32mand\u001b[0m \u001b[0mis_classifier\u001b[0m\u001b[0;34m(\u001b[0m\u001b[0mself\u001b[0m\u001b[0;34m)\u001b[0m\u001b[0;34m:\u001b[0m\u001b[0;34m\u001b[0m\u001b[0;34m\u001b[0m\u001b[0m\n",
      "\u001b[0;31mKeyboardInterrupt\u001b[0m: "
     ]
    }
   ],
   "source": [
    "from sklearn.model_selection import GridSearchCV\n",
    "rfcl_tuned,rfcl_y_predict_train,rfcl_y_predict_test = rfrun(\n",
    "    X_train,y_train,X_test,[13,17,21],[100,200,300],[15,17,25],[1,3],[3,6])\n",
    "\n",
    "res_df = scores_train_test(rfcl_tuned,X_train,X_test,y_train,y_test,rfcl_y_predict_train,rfcl_y_predict_test,'Tuned')"
   ]
  },
  {
   "cell_type": "code",
   "execution_count": 442,
   "metadata": {},
   "outputs": [
    {
     "name": "stdout",
     "output_type": "stream",
     "text": [
      "RandomForestClassifier\n",
      "********************************\n",
      "\n",
      "Display Metrics of Train and Test Data\n",
      "***************************************\n"
     ]
    },
    {
     "data": {
      "text/html": [
       "<style  type=\"text/css\" >\n",
       "    #T_e24d1_ th {\n",
       "          text-align: center;\n",
       "    }#T_e24d1_row0_col0,#T_e24d1_row1_col0{\n",
       "            width:  5em;\n",
       "            text-align:  left;\n",
       "        }#T_e24d1_row0_col1,#T_e24d1_row0_col2,#T_e24d1_row0_col3,#T_e24d1_row0_col4,#T_e24d1_row0_col5,#T_e24d1_row1_col1,#T_e24d1_row1_col2,#T_e24d1_row1_col3,#T_e24d1_row1_col4,#T_e24d1_row1_col5{\n",
       "            width:  5em;\n",
       "            height:  3em;\n",
       "            text-align:  right;\n",
       "            border-color:  white;\n",
       "            border-style:  solid;\n",
       "        }</style><table id=\"T_e24d1_\" ><thead>    <tr>        <th class=\"col_heading level0 col0\" >Scores</th>        <th class=\"col_heading level0 col1\" >Precision</th>        <th class=\"col_heading level0 col2\" >Recall</th>        <th class=\"col_heading level0 col3\" >F-Score</th>        <th class=\"col_heading level0 col4\" >Accuracy</th>        <th class=\"col_heading level0 col5\" >AUC</th>    </tr></thead><tbody>\n",
       "                <tr>\n",
       "                                <td id=\"T_e24d1_row0_col0\" class=\"data row0 col0\" >RandomForestClassifier_Tuned_Train</td>\n",
       "                        <td id=\"T_e24d1_row0_col1\" class=\"data row0 col1\" >99.96</td>\n",
       "                        <td id=\"T_e24d1_row0_col2\" class=\"data row0 col2\" >100.00</td>\n",
       "                        <td id=\"T_e24d1_row0_col3\" class=\"data row0 col3\" >99.98</td>\n",
       "                        <td id=\"T_e24d1_row0_col4\" class=\"data row0 col4\" >99.97</td>\n",
       "                        <td id=\"T_e24d1_row0_col5\" class=\"data row0 col5\" >100.00</td>\n",
       "            </tr>\n",
       "            <tr>\n",
       "                                <td id=\"T_e24d1_row1_col0\" class=\"data row1 col0\" >RandomForestClassifier_Tuned_Test</td>\n",
       "                        <td id=\"T_e24d1_row1_col1\" class=\"data row1 col1\" >96.16</td>\n",
       "                        <td id=\"T_e24d1_row1_col2\" class=\"data row1 col2\" >94.61</td>\n",
       "                        <td id=\"T_e24d1_row1_col3\" class=\"data row1 col3\" >95.38</td>\n",
       "                        <td id=\"T_e24d1_row1_col4\" class=\"data row1 col4\" >99.97</td>\n",
       "                        <td id=\"T_e24d1_row1_col5\" class=\"data row1 col5\" >100.00</td>\n",
       "            </tr>\n",
       "    </tbody></table>"
      ],
      "text/plain": [
       "<pandas.io.formats.style.Styler at 0x142fd3a60>"
      ]
     },
     "metadata": {},
     "output_type": "display_data"
    },
    {
     "data": {
      "image/png": "[encoded data removed]",
      "text/plain": [
       "<Figure size 720x288 with 4 Axes>"
      ]
     },
     "metadata": {
      "needs_background": "light"
     },
     "output_type": "display_data"
    },
    {
     "data": {
      "image/png": "[encoded data removed]",
      "text/plain": [
       "<Figure size 360x360 with 1 Axes>"
      ]
     },
     "metadata": {
      "needs_background": "light"
     },
     "output_type": "display_data"
    }
   ],
   "source": [
    "res_df = scores_train_test(rfcl_tuned,X_train,X_test,y_train,y_test,rfcl_y_predict_train,rfcl_y_predict_test,'Tuned')"
   ]
  },
  {
   "cell_type": "code",
   "execution_count": null,
   "metadata": {},
   "outputs": [],
   "source": [
    "# from sklearn.neighbors import KNeighborsClassifier"
   ]
  },
  {
   "cell_type": "code",
   "execution_count": null,
   "metadata": {},
   "outputs": [],
   "source": [
    "# for i in range(1,9,2):\n",
    "#     KNN_Model = KNeighborsClassifier(n_neighbors=i,metric='euclidean')\n",
    "#     KNN_Model.fit(X_train_sc,y_train)\n",
    "#     y_test_p = KNN_Model.predict(X_test_sc)\n",
    "#     print(f'Accuracy Score for K={i} : ',KNN_Model.score(X_test_sc,y_test))"
   ]
  },
  {
   "cell_type": "code",
   "execution_count": null,
   "metadata": {},
   "outputs": [],
   "source": [
    "# from sklearn.neural_network import MLPClassifier"
   ]
  },
  {
   "cell_type": "code",
   "execution_count": 441,
   "metadata": {},
   "outputs": [
    {
     "ename": "KeyboardInterrupt",
     "evalue": "",
     "output_type": "error",
     "traceback": [
      "\u001b[0;31m---------------------------------------------------------------------------\u001b[0m",
      "\u001b[0;31mKeyboardInterrupt\u001b[0m                         Traceback (most recent call last)",
      "\u001b[0;32m<ipython-input-440-a2387e5d0eb9>\u001b[0m in \u001b[0;36m<module>\u001b[0;34m\u001b[0m\n\u001b[1;32m      1\u001b[0m \u001b[0;32mfrom\u001b[0m \u001b[0msklearn\u001b[0m\u001b[0;34m.\u001b[0m\u001b[0mmodel_selection\u001b[0m \u001b[0;32mimport\u001b[0m \u001b[0mGridSearchCV\u001b[0m\u001b[0;34m\u001b[0m\u001b[0;34m\u001b[0m\u001b[0m\n\u001b[0;32m----> 2\u001b[0;31m rfcl_tuned,rfcl_y_predict_train,rfcl_y_predict_test = rfrun(\n\u001b[0m\u001b[1;32m      3\u001b[0m     X_train,y_train,X_test,[13,17,21],[100,200,300],[15,17,25],[1,3],[3,6])\n\u001b[1;32m      4\u001b[0m \u001b[0;34m\u001b[0m\u001b[0m\n\u001b[1;32m      5\u001b[0m \u001b[0mres_df\u001b[0m \u001b[0;34m=\u001b[0m \u001b[0mscores_train_test\u001b[0m\u001b[0;34m(\u001b[0m\u001b[0mrfcl_tuned\u001b[0m\u001b[0;34m,\u001b[0m\u001b[0mX_train\u001b[0m\u001b[0;34m,\u001b[0m\u001b[0mX_test\u001b[0m\u001b[0;34m,\u001b[0m\u001b[0my_train\u001b[0m\u001b[0;34m,\u001b[0m\u001b[0my_test\u001b[0m\u001b[0;34m,\u001b[0m\u001b[0mrfcl_y_predict_train\u001b[0m\u001b[0;34m,\u001b[0m\u001b[0mrfcl_y_predict_test\u001b[0m\u001b[0;34m,\u001b[0m\u001b[0;34m'Tuned'\u001b[0m\u001b[0;34m)\u001b[0m\u001b[0;34m\u001b[0m\u001b[0;34m\u001b[0m\u001b[0m\n",
      "\u001b[0;32m<ipython-input-420-9de6e369a47f>\u001b[0m in \u001b[0;36mrfrun\u001b[0;34m(x_train, train_labels, x_test, max_f, no_est, max_dep, min_sam, min_spl)\u001b[0m\n\u001b[1;32m     12\u001b[0m \u001b[0;34m\u001b[0m\u001b[0m\n\u001b[1;32m     13\u001b[0m     \u001b[0mgrid_search\u001b[0m \u001b[0;34m=\u001b[0m \u001b[0mGridSearchCV\u001b[0m\u001b[0;34m(\u001b[0m\u001b[0mestimator\u001b[0m \u001b[0;34m=\u001b[0m \u001b[0mrfcl\u001b[0m\u001b[0;34m,\u001b[0m \u001b[0mparam_grid\u001b[0m \u001b[0;34m=\u001b[0m \u001b[0mparam_grid\u001b[0m\u001b[0;34m,\u001b[0m \u001b[0mcv\u001b[0m \u001b[0;34m=\u001b[0m \u001b[0;36m3\u001b[0m\u001b[0;34m,\u001b[0m\u001b[0mscoring\u001b[0m\u001b[0;34m=\u001b[0m\u001b[0;34m'accuracy'\u001b[0m\u001b[0;34m)\u001b[0m\u001b[0;34m\u001b[0m\u001b[0;34m\u001b[0m\u001b[0m\n\u001b[0;32m---> 14\u001b[0;31m     \u001b[0mgrid_search\u001b[0m\u001b[0;34m.\u001b[0m\u001b[0mfit\u001b[0m\u001b[0;34m(\u001b[0m\u001b[0mx_train\u001b[0m\u001b[0;34m,\u001b[0m \u001b[0mtrain_labels\u001b[0m\u001b[0;34m)\u001b[0m\u001b[0;34m\u001b[0m\u001b[0;34m\u001b[0m\u001b[0m\n\u001b[0m\u001b[1;32m     15\u001b[0m     \u001b[0mprint\u001b[0m\u001b[0;34m(\u001b[0m\u001b[0mgrid_search\u001b[0m\u001b[0;34m.\u001b[0m\u001b[0mbest_params_\u001b[0m\u001b[0;34m)\u001b[0m\u001b[0;34m\u001b[0m\u001b[0;34m\u001b[0m\u001b[0m\n\u001b[1;32m     16\u001b[0m \u001b[0;34m\u001b[0m\u001b[0m\n",
      "\u001b[0;32m~/miniforge3/lib/python3.9/site-packages/sklearn/utils/validation.py\u001b[0m in \u001b[0;36minner_f\u001b[0;34m(*args, **kwargs)\u001b[0m\n\u001b[1;32m     61\u001b[0m             \u001b[0mextra_args\u001b[0m \u001b[0;34m=\u001b[0m \u001b[0mlen\u001b[0m\u001b[0;34m(\u001b[0m\u001b[0margs\u001b[0m\u001b[0;34m)\u001b[0m \u001b[0;34m-\u001b[0m \u001b[0mlen\u001b[0m\u001b[0;34m(\u001b[0m\u001b[0mall_args\u001b[0m\u001b[0;34m)\u001b[0m\u001b[0;34m\u001b[0m\u001b[0;34m\u001b[0m\u001b[0m\n\u001b[1;32m     62\u001b[0m             \u001b[0;32mif\u001b[0m \u001b[0mextra_args\u001b[0m \u001b[0;34m<=\u001b[0m \u001b[0;36m0\u001b[0m\u001b[0;34m:\u001b[0m\u001b[0;34m\u001b[0m\u001b[0;34m\u001b[0m\u001b[0m\n\u001b[0;32m---> 63\u001b[0;31m                 \u001b[0;32mreturn\u001b[0m \u001b[0mf\u001b[0m\u001b[0;34m(\u001b[0m\u001b[0;34m*\u001b[0m\u001b[0margs\u001b[0m\u001b[0;34m,\u001b[0m \u001b[0;34m**\u001b[0m\u001b[0mkwargs\u001b[0m\u001b[0;34m)\u001b[0m\u001b[0;34m\u001b[0m\u001b[0;34m\u001b[0m\u001b[0m\n\u001b[0m\u001b[1;32m     64\u001b[0m \u001b[0;34m\u001b[0m\u001b[0m\n\u001b[1;32m     65\u001b[0m             \u001b[0;31m# extra_args > 0\u001b[0m\u001b[0;34m\u001b[0m\u001b[0;34m\u001b[0m\u001b[0;34m\u001b[0m\u001b[0m\n",
      "\u001b[0;32m~/miniforge3/lib/python3.9/site-packages/sklearn/model_selection/_search.py\u001b[0m in \u001b[0;36mfit\u001b[0;34m(self, X, y, groups, **fit_params)\u001b[0m\n\u001b[1;32m    839\u001b[0m                 \u001b[0;32mreturn\u001b[0m \u001b[0mresults\u001b[0m\u001b[0;34m\u001b[0m\u001b[0;34m\u001b[0m\u001b[0m\n\u001b[1;32m    840\u001b[0m \u001b[0;34m\u001b[0m\u001b[0m\n\u001b[0;32m--> 841\u001b[0;31m             \u001b[0mself\u001b[0m\u001b[0;34m.\u001b[0m\u001b[0m_run_search\u001b[0m\u001b[0;34m(\u001b[0m\u001b[0mevaluate_candidates\u001b[0m\u001b[0;34m)\u001b[0m\u001b[0;34m\u001b[0m\u001b[0;34m\u001b[0m\u001b[0m\n\u001b[0m\u001b[1;32m    842\u001b[0m \u001b[0;34m\u001b[0m\u001b[0m\n\u001b[1;32m    843\u001b[0m             \u001b[0;31m# multimetric is determined here because in the case of a callable\u001b[0m\u001b[0;34m\u001b[0m\u001b[0;34m\u001b[0m\u001b[0;34m\u001b[0m\u001b[0m\n",
      "\u001b[0;32m~/miniforge3/lib/python3.9/site-packages/sklearn/model_selection/_search.py\u001b[0m in \u001b[0;36m_run_search\u001b[0;34m(self, evaluate_candidates)\u001b[0m\n\u001b[1;32m   1286\u001b[0m     \u001b[0;32mdef\u001b[0m \u001b[0m_run_search\u001b[0m\u001b[0;34m(\u001b[0m\u001b[0mself\u001b[0m\u001b[0;34m,\u001b[0m \u001b[0mevaluate_candidates\u001b[0m\u001b[0;34m)\u001b[0m\u001b[0;34m:\u001b[0m\u001b[0;34m\u001b[0m\u001b[0;34m\u001b[0m\u001b[0m\n\u001b[1;32m   1287\u001b[0m         \u001b[0;34m\"\"\"Search all candidates in param_grid\"\"\"\u001b[0m\u001b[0;34m\u001b[0m\u001b[0;34m\u001b[0m\u001b[0m\n\u001b[0;32m-> 1288\u001b[0;31m         \u001b[0mevaluate_candidates\u001b[0m\u001b[0;34m(\u001b[0m\u001b[0mParameterGrid\u001b[0m\u001b[0;34m(\u001b[0m\u001b[0mself\u001b[0m\u001b[0;34m.\u001b[0m\u001b[0mparam_grid\u001b[0m\u001b[0;34m)\u001b[0m\u001b[0;34m)\u001b[0m\u001b[0;34m\u001b[0m\u001b[0;34m\u001b[0m\u001b[0m\n\u001b[0m\u001b[1;32m   1289\u001b[0m \u001b[0;34m\u001b[0m\u001b[0m\n\u001b[1;32m   1290\u001b[0m \u001b[0;34m\u001b[0m\u001b[0m\n",
      "\u001b[0;32m~/miniforge3/lib/python3.9/site-packages/sklearn/model_selection/_search.py\u001b[0m in \u001b[0;36mevaluate_candidates\u001b[0;34m(candidate_params, cv, more_results)\u001b[0m\n\u001b[1;32m    793\u001b[0m                               n_splits, n_candidates, n_candidates * n_splits))\n\u001b[1;32m    794\u001b[0m \u001b[0;34m\u001b[0m\u001b[0m\n\u001b[0;32m--> 795\u001b[0;31m                 out = parallel(delayed(_fit_and_score)(clone(base_estimator),\n\u001b[0m\u001b[1;32m    796\u001b[0m                                                        \u001b[0mX\u001b[0m\u001b[0;34m,\u001b[0m \u001b[0my\u001b[0m\u001b[0;34m,\u001b[0m\u001b[0;34m\u001b[0m\u001b[0;34m\u001b[0m\u001b[0m\n\u001b[1;32m    797\u001b[0m                                                        \u001b[0mtrain\u001b[0m\u001b[0;34m=\u001b[0m\u001b[0mtrain\u001b[0m\u001b[0;34m,\u001b[0m \u001b[0mtest\u001b[0m\u001b[0;34m=\u001b[0m\u001b[0mtest\u001b[0m\u001b[0;34m,\u001b[0m\u001b[0;34m\u001b[0m\u001b[0;34m\u001b[0m\u001b[0m\n",
      "\u001b[0;32m~/miniforge3/lib/python3.9/site-packages/joblib/parallel.py\u001b[0m in \u001b[0;36m__call__\u001b[0;34m(self, iterable)\u001b[0m\n\u001b[1;32m   1042\u001b[0m                 \u001b[0mself\u001b[0m\u001b[0;34m.\u001b[0m\u001b[0m_iterating\u001b[0m \u001b[0;34m=\u001b[0m \u001b[0mself\u001b[0m\u001b[0;34m.\u001b[0m\u001b[0m_original_iterator\u001b[0m \u001b[0;32mis\u001b[0m \u001b[0;32mnot\u001b[0m \u001b[0;32mNone\u001b[0m\u001b[0;34m\u001b[0m\u001b[0;34m\u001b[0m\u001b[0m\n\u001b[1;32m   1043\u001b[0m \u001b[0;34m\u001b[0m\u001b[0m\n\u001b[0;32m-> 1044\u001b[0;31m             \u001b[0;32mwhile\u001b[0m \u001b[0mself\u001b[0m\u001b[0;34m.\u001b[0m\u001b[0mdispatch_one_batch\u001b[0m\u001b[0;34m(\u001b[0m\u001b[0miterator\u001b[0m\u001b[0;34m)\u001b[0m\u001b[0;34m:\u001b[0m\u001b[0;34m\u001b[0m\u001b[0;34m\u001b[0m\u001b[0m\n\u001b[0m\u001b[1;32m   1045\u001b[0m                 \u001b[0;32mpass\u001b[0m\u001b[0;34m\u001b[0m\u001b[0;34m\u001b[0m\u001b[0m\n\u001b[1;32m   1046\u001b[0m \u001b[0;34m\u001b[0m\u001b[0m\n",
      "\u001b[0;32m~/miniforge3/lib/python3.9/site-packages/joblib/parallel.py\u001b[0m in \u001b[0;36mdispatch_one_batch\u001b[0;34m(self, iterator)\u001b[0m\n\u001b[1;32m    857\u001b[0m                 \u001b[0;32mreturn\u001b[0m \u001b[0;32mFalse\u001b[0m\u001b[0;34m\u001b[0m\u001b[0;34m\u001b[0m\u001b[0m\n\u001b[1;32m    858\u001b[0m             \u001b[0;32melse\u001b[0m\u001b[0;34m:\u001b[0m\u001b[0;34m\u001b[0m\u001b[0;34m\u001b[0m\u001b[0m\n\u001b[0;32m--> 859\u001b[0;31m                 \u001b[0mself\u001b[0m\u001b[0;34m.\u001b[0m\u001b[0m_dispatch\u001b[0m\u001b[0;34m(\u001b[0m\u001b[0mtasks\u001b[0m\u001b[0;34m)\u001b[0m\u001b[0;34m\u001b[0m\u001b[0;34m\u001b[0m\u001b[0m\n\u001b[0m\u001b[1;32m    860\u001b[0m                 \u001b[0;32mreturn\u001b[0m \u001b[0;32mTrue\u001b[0m\u001b[0;34m\u001b[0m\u001b[0;34m\u001b[0m\u001b[0m\n\u001b[1;32m    861\u001b[0m \u001b[0;34m\u001b[0m\u001b[0m\n",
      "\u001b[0;32m~/miniforge3/lib/python3.9/site-packages/joblib/parallel.py\u001b[0m in \u001b[0;36m_dispatch\u001b[0;34m(self, batch)\u001b[0m\n\u001b[1;32m    775\u001b[0m         \u001b[0;32mwith\u001b[0m \u001b[0mself\u001b[0m\u001b[0;34m.\u001b[0m\u001b[0m_lock\u001b[0m\u001b[0;34m:\u001b[0m\u001b[0;34m\u001b[0m\u001b[0;34m\u001b[0m\u001b[0m\n\u001b[1;32m    776\u001b[0m             \u001b[0mjob_idx\u001b[0m \u001b[0;34m=\u001b[0m \u001b[0mlen\u001b[0m\u001b[0;34m(\u001b[0m\u001b[0mself\u001b[0m\u001b[0;34m.\u001b[0m\u001b[0m_jobs\u001b[0m\u001b[0;34m)\u001b[0m\u001b[0;34m\u001b[0m\u001b[0;34m\u001b[0m\u001b[0m\n\u001b[0;32m--> 777\u001b[0;31m             \u001b[0mjob\u001b[0m \u001b[0;34m=\u001b[0m \u001b[0mself\u001b[0m\u001b[0;34m.\u001b[0m\u001b[0m_backend\u001b[0m\u001b[0;34m.\u001b[0m\u001b[0mapply_async\u001b[0m\u001b[0;34m(\u001b[0m\u001b[0mbatch\u001b[0m\u001b[0;34m,\u001b[0m \u001b[0mcallback\u001b[0m\u001b[0;34m=\u001b[0m\u001b[0mcb\u001b[0m\u001b[0;34m)\u001b[0m\u001b[0;34m\u001b[0m\u001b[0;34m\u001b[0m\u001b[0m\n\u001b[0m\u001b[1;32m    778\u001b[0m             \u001b[0;31m# A job can complete so quickly than its callback is\u001b[0m\u001b[0;34m\u001b[0m\u001b[0;34m\u001b[0m\u001b[0;34m\u001b[0m\u001b[0m\n\u001b[1;32m    779\u001b[0m             \u001b[0;31m# called before we get here, causing self._jobs to\u001b[0m\u001b[0;34m\u001b[0m\u001b[0;34m\u001b[0m\u001b[0;34m\u001b[0m\u001b[0m\n",
      "\u001b[0;32m~/miniforge3/lib/python3.9/site-packages/joblib/_parallel_backends.py\u001b[0m in \u001b[0;36mapply_async\u001b[0;34m(self, func, callback)\u001b[0m\n\u001b[1;32m    206\u001b[0m     \u001b[0;32mdef\u001b[0m \u001b[0mapply_async\u001b[0m\u001b[0;34m(\u001b[0m\u001b[0mself\u001b[0m\u001b[0;34m,\u001b[0m \u001b[0mfunc\u001b[0m\u001b[0;34m,\u001b[0m \u001b[0mcallback\u001b[0m\u001b[0;34m=\u001b[0m\u001b[0;32mNone\u001b[0m\u001b[0;34m)\u001b[0m\u001b[0;34m:\u001b[0m\u001b[0;34m\u001b[0m\u001b[0;34m\u001b[0m\u001b[0m\n\u001b[1;32m    207\u001b[0m         \u001b[0;34m\"\"\"Schedule a func to be run\"\"\"\u001b[0m\u001b[0;34m\u001b[0m\u001b[0;34m\u001b[0m\u001b[0m\n\u001b[0;32m--> 208\u001b[0;31m         \u001b[0mresult\u001b[0m \u001b[0;34m=\u001b[0m \u001b[0mImmediateResult\u001b[0m\u001b[0;34m(\u001b[0m\u001b[0mfunc\u001b[0m\u001b[0;34m)\u001b[0m\u001b[0;34m\u001b[0m\u001b[0;34m\u001b[0m\u001b[0m\n\u001b[0m\u001b[1;32m    209\u001b[0m         \u001b[0;32mif\u001b[0m \u001b[0mcallback\u001b[0m\u001b[0;34m:\u001b[0m\u001b[0;34m\u001b[0m\u001b[0;34m\u001b[0m\u001b[0m\n\u001b[1;32m    210\u001b[0m             \u001b[0mcallback\u001b[0m\u001b[0;34m(\u001b[0m\u001b[0mresult\u001b[0m\u001b[0;34m)\u001b[0m\u001b[0;34m\u001b[0m\u001b[0;34m\u001b[0m\u001b[0m\n",
      "\u001b[0;32m~/miniforge3/lib/python3.9/site-packages/joblib/_parallel_backends.py\u001b[0m in \u001b[0;36m__init__\u001b[0;34m(self, batch)\u001b[0m\n\u001b[1;32m    570\u001b[0m         \u001b[0;31m# Don't delay the application, to avoid keeping the input\u001b[0m\u001b[0;34m\u001b[0m\u001b[0;34m\u001b[0m\u001b[0;34m\u001b[0m\u001b[0m\n\u001b[1;32m    571\u001b[0m         \u001b[0;31m# arguments in memory\u001b[0m\u001b[0;34m\u001b[0m\u001b[0;34m\u001b[0m\u001b[0;34m\u001b[0m\u001b[0m\n\u001b[0;32m--> 572\u001b[0;31m         \u001b[0mself\u001b[0m\u001b[0;34m.\u001b[0m\u001b[0mresults\u001b[0m \u001b[0;34m=\u001b[0m \u001b[0mbatch\u001b[0m\u001b[0;34m(\u001b[0m\u001b[0;34m)\u001b[0m\u001b[0;34m\u001b[0m\u001b[0;34m\u001b[0m\u001b[0m\n\u001b[0m\u001b[1;32m    573\u001b[0m \u001b[0;34m\u001b[0m\u001b[0m\n\u001b[1;32m    574\u001b[0m     \u001b[0;32mdef\u001b[0m \u001b[0mget\u001b[0m\u001b[0;34m(\u001b[0m\u001b[0mself\u001b[0m\u001b[0;34m)\u001b[0m\u001b[0;34m:\u001b[0m\u001b[0;34m\u001b[0m\u001b[0;34m\u001b[0m\u001b[0m\n",
      "\u001b[0;32m~/miniforge3/lib/python3.9/site-packages/joblib/parallel.py\u001b[0m in \u001b[0;36m__call__\u001b[0;34m(self)\u001b[0m\n\u001b[1;32m    260\u001b[0m         \u001b[0;31m# change the default number of processes to -1\u001b[0m\u001b[0;34m\u001b[0m\u001b[0;34m\u001b[0m\u001b[0;34m\u001b[0m\u001b[0m\n\u001b[1;32m    261\u001b[0m         \u001b[0;32mwith\u001b[0m \u001b[0mparallel_backend\u001b[0m\u001b[0;34m(\u001b[0m\u001b[0mself\u001b[0m\u001b[0;34m.\u001b[0m\u001b[0m_backend\u001b[0m\u001b[0;34m,\u001b[0m \u001b[0mn_jobs\u001b[0m\u001b[0;34m=\u001b[0m\u001b[0mself\u001b[0m\u001b[0;34m.\u001b[0m\u001b[0m_n_jobs\u001b[0m\u001b[0;34m)\u001b[0m\u001b[0;34m:\u001b[0m\u001b[0;34m\u001b[0m\u001b[0;34m\u001b[0m\u001b[0m\n\u001b[0;32m--> 262\u001b[0;31m             return [func(*args, **kwargs)\n\u001b[0m\u001b[1;32m    263\u001b[0m                     for func, args, kwargs in self.items]\n\u001b[1;32m    264\u001b[0m \u001b[0;34m\u001b[0m\u001b[0m\n",
      "\u001b[0;32m~/miniforge3/lib/python3.9/site-packages/joblib/parallel.py\u001b[0m in \u001b[0;36m<listcomp>\u001b[0;34m(.0)\u001b[0m\n\u001b[1;32m    260\u001b[0m         \u001b[0;31m# change the default number of processes to -1\u001b[0m\u001b[0;34m\u001b[0m\u001b[0;34m\u001b[0m\u001b[0;34m\u001b[0m\u001b[0m\n\u001b[1;32m    261\u001b[0m         \u001b[0;32mwith\u001b[0m \u001b[0mparallel_backend\u001b[0m\u001b[0;34m(\u001b[0m\u001b[0mself\u001b[0m\u001b[0;34m.\u001b[0m\u001b[0m_backend\u001b[0m\u001b[0;34m,\u001b[0m \u001b[0mn_jobs\u001b[0m\u001b[0;34m=\u001b[0m\u001b[0mself\u001b[0m\u001b[0;34m.\u001b[0m\u001b[0m_n_jobs\u001b[0m\u001b[0;34m)\u001b[0m\u001b[0;34m:\u001b[0m\u001b[0;34m\u001b[0m\u001b[0;34m\u001b[0m\u001b[0m\n\u001b[0;32m--> 262\u001b[0;31m             return [func(*args, **kwargs)\n\u001b[0m\u001b[1;32m    263\u001b[0m                     for func, args, kwargs in self.items]\n\u001b[1;32m    264\u001b[0m \u001b[0;34m\u001b[0m\u001b[0m\n",
      "\u001b[0;32m~/miniforge3/lib/python3.9/site-packages/sklearn/utils/fixes.py\u001b[0m in \u001b[0;36m__call__\u001b[0;34m(self, *args, **kwargs)\u001b[0m\n\u001b[1;32m    220\u001b[0m     \u001b[0;32mdef\u001b[0m \u001b[0m__call__\u001b[0m\u001b[0;34m(\u001b[0m\u001b[0mself\u001b[0m\u001b[0;34m,\u001b[0m \u001b[0;34m*\u001b[0m\u001b[0margs\u001b[0m\u001b[0;34m,\u001b[0m \u001b[0;34m**\u001b[0m\u001b[0mkwargs\u001b[0m\u001b[0;34m)\u001b[0m\u001b[0;34m:\u001b[0m\u001b[0;34m\u001b[0m\u001b[0;34m\u001b[0m\u001b[0m\n\u001b[1;32m    221\u001b[0m         \u001b[0;32mwith\u001b[0m \u001b[0mconfig_context\u001b[0m\u001b[0;34m(\u001b[0m\u001b[0;34m**\u001b[0m\u001b[0mself\u001b[0m\u001b[0;34m.\u001b[0m\u001b[0mconfig\u001b[0m\u001b[0;34m)\u001b[0m\u001b[0;34m:\u001b[0m\u001b[0;34m\u001b[0m\u001b[0;34m\u001b[0m\u001b[0m\n\u001b[0;32m--> 222\u001b[0;31m             \u001b[0;32mreturn\u001b[0m \u001b[0mself\u001b[0m\u001b[0;34m.\u001b[0m\u001b[0mfunction\u001b[0m\u001b[0;34m(\u001b[0m\u001b[0;34m*\u001b[0m\u001b[0margs\u001b[0m\u001b[0;34m,\u001b[0m \u001b[0;34m**\u001b[0m\u001b[0mkwargs\u001b[0m\u001b[0;34m)\u001b[0m\u001b[0;34m\u001b[0m\u001b[0;34m\u001b[0m\u001b[0m\n\u001b[0m",
      "\u001b[0;32m~/miniforge3/lib/python3.9/site-packages/sklearn/model_selection/_validation.py\u001b[0m in \u001b[0;36m_fit_and_score\u001b[0;34m(estimator, X, y, scorer, train, test, verbose, parameters, fit_params, return_train_score, return_parameters, return_n_test_samples, return_times, return_estimator, split_progress, candidate_progress, error_score)\u001b[0m\n\u001b[1;32m    591\u001b[0m             \u001b[0mestimator\u001b[0m\u001b[0;34m.\u001b[0m\u001b[0mfit\u001b[0m\u001b[0;34m(\u001b[0m\u001b[0mX_train\u001b[0m\u001b[0;34m,\u001b[0m \u001b[0;34m**\u001b[0m\u001b[0mfit_params\u001b[0m\u001b[0;34m)\u001b[0m\u001b[0;34m\u001b[0m\u001b[0;34m\u001b[0m\u001b[0m\n\u001b[1;32m    592\u001b[0m         \u001b[0;32melse\u001b[0m\u001b[0;34m:\u001b[0m\u001b[0;34m\u001b[0m\u001b[0;34m\u001b[0m\u001b[0m\n\u001b[0;32m--> 593\u001b[0;31m             \u001b[0mestimator\u001b[0m\u001b[0;34m.\u001b[0m\u001b[0mfit\u001b[0m\u001b[0;34m(\u001b[0m\u001b[0mX_train\u001b[0m\u001b[0;34m,\u001b[0m \u001b[0my_train\u001b[0m\u001b[0;34m,\u001b[0m \u001b[0;34m**\u001b[0m\u001b[0mfit_params\u001b[0m\u001b[0;34m)\u001b[0m\u001b[0;34m\u001b[0m\u001b[0;34m\u001b[0m\u001b[0m\n\u001b[0m\u001b[1;32m    594\u001b[0m \u001b[0;34m\u001b[0m\u001b[0m\n\u001b[1;32m    595\u001b[0m     \u001b[0;32mexcept\u001b[0m \u001b[0mException\u001b[0m \u001b[0;32mas\u001b[0m \u001b[0me\u001b[0m\u001b[0;34m:\u001b[0m\u001b[0;34m\u001b[0m\u001b[0;34m\u001b[0m\u001b[0m\n",
      "\u001b[0;32m~/miniforge3/lib/python3.9/site-packages/sklearn/ensemble/_forest.py\u001b[0m in \u001b[0;36mfit\u001b[0;34m(self, X, y, sample_weight)\u001b[0m\n\u001b[1;32m    385\u001b[0m             \u001b[0;31m# parallel_backend contexts set at a higher level,\u001b[0m\u001b[0;34m\u001b[0m\u001b[0;34m\u001b[0m\u001b[0;34m\u001b[0m\u001b[0m\n\u001b[1;32m    386\u001b[0m             \u001b[0;31m# since correctness does not rely on using threads.\u001b[0m\u001b[0;34m\u001b[0m\u001b[0;34m\u001b[0m\u001b[0;34m\u001b[0m\u001b[0m\n\u001b[0;32m--> 387\u001b[0;31m             trees = Parallel(n_jobs=self.n_jobs, verbose=self.verbose,\n\u001b[0m\u001b[1;32m    388\u001b[0m                              \u001b[0;34m**\u001b[0m\u001b[0m_joblib_parallel_args\u001b[0m\u001b[0;34m(\u001b[0m\u001b[0mprefer\u001b[0m\u001b[0;34m=\u001b[0m\u001b[0;34m'threads'\u001b[0m\u001b[0;34m)\u001b[0m\u001b[0;34m)\u001b[0m\u001b[0;34m(\u001b[0m\u001b[0;34m\u001b[0m\u001b[0;34m\u001b[0m\u001b[0m\n\u001b[1;32m    389\u001b[0m                 delayed(_parallel_build_trees)(\n",
      "\u001b[0;32m~/miniforge3/lib/python3.9/site-packages/joblib/parallel.py\u001b[0m in \u001b[0;36m__call__\u001b[0;34m(self, iterable)\u001b[0m\n\u001b[1;32m   1042\u001b[0m                 \u001b[0mself\u001b[0m\u001b[0;34m.\u001b[0m\u001b[0m_iterating\u001b[0m \u001b[0;34m=\u001b[0m \u001b[0mself\u001b[0m\u001b[0;34m.\u001b[0m\u001b[0m_original_iterator\u001b[0m \u001b[0;32mis\u001b[0m \u001b[0;32mnot\u001b[0m \u001b[0;32mNone\u001b[0m\u001b[0;34m\u001b[0m\u001b[0;34m\u001b[0m\u001b[0m\n\u001b[1;32m   1043\u001b[0m \u001b[0;34m\u001b[0m\u001b[0m\n\u001b[0;32m-> 1044\u001b[0;31m             \u001b[0;32mwhile\u001b[0m \u001b[0mself\u001b[0m\u001b[0;34m.\u001b[0m\u001b[0mdispatch_one_batch\u001b[0m\u001b[0;34m(\u001b[0m\u001b[0miterator\u001b[0m\u001b[0;34m)\u001b[0m\u001b[0;34m:\u001b[0m\u001b[0;34m\u001b[0m\u001b[0;34m\u001b[0m\u001b[0m\n\u001b[0m\u001b[1;32m   1045\u001b[0m                 \u001b[0;32mpass\u001b[0m\u001b[0;34m\u001b[0m\u001b[0;34m\u001b[0m\u001b[0m\n\u001b[1;32m   1046\u001b[0m \u001b[0;34m\u001b[0m\u001b[0m\n",
      "\u001b[0;32m~/miniforge3/lib/python3.9/site-packages/joblib/parallel.py\u001b[0m in \u001b[0;36mdispatch_one_batch\u001b[0;34m(self, iterator)\u001b[0m\n\u001b[1;32m    857\u001b[0m                 \u001b[0;32mreturn\u001b[0m \u001b[0;32mFalse\u001b[0m\u001b[0;34m\u001b[0m\u001b[0;34m\u001b[0m\u001b[0m\n\u001b[1;32m    858\u001b[0m             \u001b[0;32melse\u001b[0m\u001b[0;34m:\u001b[0m\u001b[0;34m\u001b[0m\u001b[0;34m\u001b[0m\u001b[0m\n\u001b[0;32m--> 859\u001b[0;31m                 \u001b[0mself\u001b[0m\u001b[0;34m.\u001b[0m\u001b[0m_dispatch\u001b[0m\u001b[0;34m(\u001b[0m\u001b[0mtasks\u001b[0m\u001b[0;34m)\u001b[0m\u001b[0;34m\u001b[0m\u001b[0;34m\u001b[0m\u001b[0m\n\u001b[0m\u001b[1;32m    860\u001b[0m                 \u001b[0;32mreturn\u001b[0m \u001b[0;32mTrue\u001b[0m\u001b[0;34m\u001b[0m\u001b[0;34m\u001b[0m\u001b[0m\n\u001b[1;32m    861\u001b[0m \u001b[0;34m\u001b[0m\u001b[0m\n",
      "\u001b[0;32m~/miniforge3/lib/python3.9/site-packages/joblib/parallel.py\u001b[0m in \u001b[0;36m_dispatch\u001b[0;34m(self, batch)\u001b[0m\n\u001b[1;32m    775\u001b[0m         \u001b[0;32mwith\u001b[0m \u001b[0mself\u001b[0m\u001b[0;34m.\u001b[0m\u001b[0m_lock\u001b[0m\u001b[0;34m:\u001b[0m\u001b[0;34m\u001b[0m\u001b[0;34m\u001b[0m\u001b[0m\n\u001b[1;32m    776\u001b[0m             \u001b[0mjob_idx\u001b[0m \u001b[0;34m=\u001b[0m \u001b[0mlen\u001b[0m\u001b[0;34m(\u001b[0m\u001b[0mself\u001b[0m\u001b[0;34m.\u001b[0m\u001b[0m_jobs\u001b[0m\u001b[0;34m)\u001b[0m\u001b[0;34m\u001b[0m\u001b[0;34m\u001b[0m\u001b[0m\n\u001b[0;32m--> 777\u001b[0;31m             \u001b[0mjob\u001b[0m \u001b[0;34m=\u001b[0m \u001b[0mself\u001b[0m\u001b[0;34m.\u001b[0m\u001b[0m_backend\u001b[0m\u001b[0;34m.\u001b[0m\u001b[0mapply_async\u001b[0m\u001b[0;34m(\u001b[0m\u001b[0mbatch\u001b[0m\u001b[0;34m,\u001b[0m \u001b[0mcallback\u001b[0m\u001b[0;34m=\u001b[0m\u001b[0mcb\u001b[0m\u001b[0;34m)\u001b[0m\u001b[0;34m\u001b[0m\u001b[0;34m\u001b[0m\u001b[0m\n\u001b[0m\u001b[1;32m    778\u001b[0m             \u001b[0;31m# A job can complete so quickly than its callback is\u001b[0m\u001b[0;34m\u001b[0m\u001b[0;34m\u001b[0m\u001b[0;34m\u001b[0m\u001b[0m\n\u001b[1;32m    779\u001b[0m             \u001b[0;31m# called before we get here, causing self._jobs to\u001b[0m\u001b[0;34m\u001b[0m\u001b[0;34m\u001b[0m\u001b[0;34m\u001b[0m\u001b[0m\n",
      "\u001b[0;32m~/miniforge3/lib/python3.9/site-packages/joblib/_parallel_backends.py\u001b[0m in \u001b[0;36mapply_async\u001b[0;34m(self, func, callback)\u001b[0m\n\u001b[1;32m    206\u001b[0m     \u001b[0;32mdef\u001b[0m \u001b[0mapply_async\u001b[0m\u001b[0;34m(\u001b[0m\u001b[0mself\u001b[0m\u001b[0;34m,\u001b[0m \u001b[0mfunc\u001b[0m\u001b[0;34m,\u001b[0m \u001b[0mcallback\u001b[0m\u001b[0;34m=\u001b[0m\u001b[0;32mNone\u001b[0m\u001b[0;34m)\u001b[0m\u001b[0;34m:\u001b[0m\u001b[0;34m\u001b[0m\u001b[0;34m\u001b[0m\u001b[0m\n\u001b[1;32m    207\u001b[0m         \u001b[0;34m\"\"\"Schedule a func to be run\"\"\"\u001b[0m\u001b[0;34m\u001b[0m\u001b[0;34m\u001b[0m\u001b[0m\n\u001b[0;32m--> 208\u001b[0;31m         \u001b[0mresult\u001b[0m \u001b[0;34m=\u001b[0m \u001b[0mImmediateResult\u001b[0m\u001b[0;34m(\u001b[0m\u001b[0mfunc\u001b[0m\u001b[0;34m)\u001b[0m\u001b[0;34m\u001b[0m\u001b[0;34m\u001b[0m\u001b[0m\n\u001b[0m\u001b[1;32m    209\u001b[0m         \u001b[0;32mif\u001b[0m \u001b[0mcallback\u001b[0m\u001b[0;34m:\u001b[0m\u001b[0;34m\u001b[0m\u001b[0;34m\u001b[0m\u001b[0m\n\u001b[1;32m    210\u001b[0m             \u001b[0mcallback\u001b[0m\u001b[0;34m(\u001b[0m\u001b[0mresult\u001b[0m\u001b[0;34m)\u001b[0m\u001b[0;34m\u001b[0m\u001b[0;34m\u001b[0m\u001b[0m\n",
      "\u001b[0;32m~/miniforge3/lib/python3.9/site-packages/joblib/_parallel_backends.py\u001b[0m in \u001b[0;36m__init__\u001b[0;34m(self, batch)\u001b[0m\n\u001b[1;32m    570\u001b[0m         \u001b[0;31m# Don't delay the application, to avoid keeping the input\u001b[0m\u001b[0;34m\u001b[0m\u001b[0;34m\u001b[0m\u001b[0;34m\u001b[0m\u001b[0m\n\u001b[1;32m    571\u001b[0m         \u001b[0;31m# arguments in memory\u001b[0m\u001b[0;34m\u001b[0m\u001b[0;34m\u001b[0m\u001b[0;34m\u001b[0m\u001b[0m\n\u001b[0;32m--> 572\u001b[0;31m         \u001b[0mself\u001b[0m\u001b[0;34m.\u001b[0m\u001b[0mresults\u001b[0m \u001b[0;34m=\u001b[0m \u001b[0mbatch\u001b[0m\u001b[0;34m(\u001b[0m\u001b[0;34m)\u001b[0m\u001b[0;34m\u001b[0m\u001b[0;34m\u001b[0m\u001b[0m\n\u001b[0m\u001b[1;32m    573\u001b[0m \u001b[0;34m\u001b[0m\u001b[0m\n\u001b[1;32m    574\u001b[0m     \u001b[0;32mdef\u001b[0m \u001b[0mget\u001b[0m\u001b[0;34m(\u001b[0m\u001b[0mself\u001b[0m\u001b[0;34m)\u001b[0m\u001b[0;34m:\u001b[0m\u001b[0;34m\u001b[0m\u001b[0;34m\u001b[0m\u001b[0m\n",
      "\u001b[0;32m~/miniforge3/lib/python3.9/site-packages/joblib/parallel.py\u001b[0m in \u001b[0;36m__call__\u001b[0;34m(self)\u001b[0m\n\u001b[1;32m    260\u001b[0m         \u001b[0;31m# change the default number of processes to -1\u001b[0m\u001b[0;34m\u001b[0m\u001b[0;34m\u001b[0m\u001b[0;34m\u001b[0m\u001b[0m\n\u001b[1;32m    261\u001b[0m         \u001b[0;32mwith\u001b[0m \u001b[0mparallel_backend\u001b[0m\u001b[0;34m(\u001b[0m\u001b[0mself\u001b[0m\u001b[0;34m.\u001b[0m\u001b[0m_backend\u001b[0m\u001b[0;34m,\u001b[0m \u001b[0mn_jobs\u001b[0m\u001b[0;34m=\u001b[0m\u001b[0mself\u001b[0m\u001b[0;34m.\u001b[0m\u001b[0m_n_jobs\u001b[0m\u001b[0;34m)\u001b[0m\u001b[0;34m:\u001b[0m\u001b[0;34m\u001b[0m\u001b[0;34m\u001b[0m\u001b[0m\n\u001b[0;32m--> 262\u001b[0;31m             return [func(*args, **kwargs)\n\u001b[0m\u001b[1;32m    263\u001b[0m                     for func, args, kwargs in self.items]\n\u001b[1;32m    264\u001b[0m \u001b[0;34m\u001b[0m\u001b[0m\n",
      "\u001b[0;32m~/miniforge3/lib/python3.9/site-packages/joblib/parallel.py\u001b[0m in \u001b[0;36m<listcomp>\u001b[0;34m(.0)\u001b[0m\n\u001b[1;32m    260\u001b[0m         \u001b[0;31m# change the default number of processes to -1\u001b[0m\u001b[0;34m\u001b[0m\u001b[0;34m\u001b[0m\u001b[0;34m\u001b[0m\u001b[0m\n\u001b[1;32m    261\u001b[0m         \u001b[0;32mwith\u001b[0m \u001b[0mparallel_backend\u001b[0m\u001b[0;34m(\u001b[0m\u001b[0mself\u001b[0m\u001b[0;34m.\u001b[0m\u001b[0m_backend\u001b[0m\u001b[0;34m,\u001b[0m \u001b[0mn_jobs\u001b[0m\u001b[0;34m=\u001b[0m\u001b[0mself\u001b[0m\u001b[0;34m.\u001b[0m\u001b[0m_n_jobs\u001b[0m\u001b[0;34m)\u001b[0m\u001b[0;34m:\u001b[0m\u001b[0;34m\u001b[0m\u001b[0;34m\u001b[0m\u001b[0m\n\u001b[0;32m--> 262\u001b[0;31m             return [func(*args, **kwargs)\n\u001b[0m\u001b[1;32m    263\u001b[0m                     for func, args, kwargs in self.items]\n\u001b[1;32m    264\u001b[0m \u001b[0;34m\u001b[0m\u001b[0m\n",
      "\u001b[0;32m~/miniforge3/lib/python3.9/site-packages/sklearn/utils/fixes.py\u001b[0m in \u001b[0;36m__call__\u001b[0;34m(self, *args, **kwargs)\u001b[0m\n\u001b[1;32m    220\u001b[0m     \u001b[0;32mdef\u001b[0m \u001b[0m__call__\u001b[0m\u001b[0;34m(\u001b[0m\u001b[0mself\u001b[0m\u001b[0;34m,\u001b[0m \u001b[0;34m*\u001b[0m\u001b[0margs\u001b[0m\u001b[0;34m,\u001b[0m \u001b[0;34m**\u001b[0m\u001b[0mkwargs\u001b[0m\u001b[0;34m)\u001b[0m\u001b[0;34m:\u001b[0m\u001b[0;34m\u001b[0m\u001b[0;34m\u001b[0m\u001b[0m\n\u001b[1;32m    221\u001b[0m         \u001b[0;32mwith\u001b[0m \u001b[0mconfig_context\u001b[0m\u001b[0;34m(\u001b[0m\u001b[0;34m**\u001b[0m\u001b[0mself\u001b[0m\u001b[0;34m.\u001b[0m\u001b[0mconfig\u001b[0m\u001b[0;34m)\u001b[0m\u001b[0;34m:\u001b[0m\u001b[0;34m\u001b[0m\u001b[0;34m\u001b[0m\u001b[0m\n\u001b[0;32m--> 222\u001b[0;31m             \u001b[0;32mreturn\u001b[0m \u001b[0mself\u001b[0m\u001b[0;34m.\u001b[0m\u001b[0mfunction\u001b[0m\u001b[0;34m(\u001b[0m\u001b[0;34m*\u001b[0m\u001b[0margs\u001b[0m\u001b[0;34m,\u001b[0m \u001b[0;34m**\u001b[0m\u001b[0mkwargs\u001b[0m\u001b[0;34m)\u001b[0m\u001b[0;34m\u001b[0m\u001b[0;34m\u001b[0m\u001b[0m\n\u001b[0m",
      "\u001b[0;32m~/miniforge3/lib/python3.9/site-packages/sklearn/ensemble/_forest.py\u001b[0m in \u001b[0;36m_parallel_build_trees\u001b[0;34m(tree, forest, X, y, sample_weight, tree_idx, n_trees, verbose, class_weight, n_samples_bootstrap)\u001b[0m\n\u001b[1;32m    167\u001b[0m                                                         indices=indices)\n\u001b[1;32m    168\u001b[0m \u001b[0;34m\u001b[0m\u001b[0m\n\u001b[0;32m--> 169\u001b[0;31m         \u001b[0mtree\u001b[0m\u001b[0;34m.\u001b[0m\u001b[0mfit\u001b[0m\u001b[0;34m(\u001b[0m\u001b[0mX\u001b[0m\u001b[0;34m,\u001b[0m \u001b[0my\u001b[0m\u001b[0;34m,\u001b[0m \u001b[0msample_weight\u001b[0m\u001b[0;34m=\u001b[0m\u001b[0mcurr_sample_weight\u001b[0m\u001b[0;34m,\u001b[0m \u001b[0mcheck_input\u001b[0m\u001b[0;34m=\u001b[0m\u001b[0;32mFalse\u001b[0m\u001b[0;34m)\u001b[0m\u001b[0;34m\u001b[0m\u001b[0;34m\u001b[0m\u001b[0m\n\u001b[0m\u001b[1;32m    170\u001b[0m     \u001b[0;32melse\u001b[0m\u001b[0;34m:\u001b[0m\u001b[0;34m\u001b[0m\u001b[0;34m\u001b[0m\u001b[0m\n\u001b[1;32m    171\u001b[0m         \u001b[0mtree\u001b[0m\u001b[0;34m.\u001b[0m\u001b[0mfit\u001b[0m\u001b[0;34m(\u001b[0m\u001b[0mX\u001b[0m\u001b[0;34m,\u001b[0m \u001b[0my\u001b[0m\u001b[0;34m,\u001b[0m \u001b[0msample_weight\u001b[0m\u001b[0;34m=\u001b[0m\u001b[0msample_weight\u001b[0m\u001b[0;34m,\u001b[0m \u001b[0mcheck_input\u001b[0m\u001b[0;34m=\u001b[0m\u001b[0;32mFalse\u001b[0m\u001b[0;34m)\u001b[0m\u001b[0;34m\u001b[0m\u001b[0;34m\u001b[0m\u001b[0m\n",
      "\u001b[0;32m~/miniforge3/lib/python3.9/site-packages/sklearn/tree/_classes.py\u001b[0m in \u001b[0;36mfit\u001b[0;34m(self, X, y, sample_weight, check_input, X_idx_sorted)\u001b[0m\n\u001b[1;32m    896\u001b[0m         \"\"\"\n\u001b[1;32m    897\u001b[0m \u001b[0;34m\u001b[0m\u001b[0m\n\u001b[0;32m--> 898\u001b[0;31m         super().fit(\n\u001b[0m\u001b[1;32m    899\u001b[0m             \u001b[0mX\u001b[0m\u001b[0;34m,\u001b[0m \u001b[0my\u001b[0m\u001b[0;34m,\u001b[0m\u001b[0;34m\u001b[0m\u001b[0;34m\u001b[0m\u001b[0m\n\u001b[1;32m    900\u001b[0m             \u001b[0msample_weight\u001b[0m\u001b[0;34m=\u001b[0m\u001b[0msample_weight\u001b[0m\u001b[0;34m,\u001b[0m\u001b[0;34m\u001b[0m\u001b[0;34m\u001b[0m\u001b[0m\n",
      "\u001b[0;32m~/miniforge3/lib/python3.9/site-packages/sklearn/tree/_classes.py\u001b[0m in \u001b[0;36mfit\u001b[0;34m(self, X, y, sample_weight, check_input, X_idx_sorted)\u001b[0m\n\u001b[1;32m    387\u001b[0m                                            min_impurity_split)\n\u001b[1;32m    388\u001b[0m \u001b[0;34m\u001b[0m\u001b[0m\n\u001b[0;32m--> 389\u001b[0;31m         \u001b[0mbuilder\u001b[0m\u001b[0;34m.\u001b[0m\u001b[0mbuild\u001b[0m\u001b[0;34m(\u001b[0m\u001b[0mself\u001b[0m\u001b[0;34m.\u001b[0m\u001b[0mtree_\u001b[0m\u001b[0;34m,\u001b[0m \u001b[0mX\u001b[0m\u001b[0;34m,\u001b[0m \u001b[0my\u001b[0m\u001b[0;34m,\u001b[0m \u001b[0msample_weight\u001b[0m\u001b[0;34m)\u001b[0m\u001b[0;34m\u001b[0m\u001b[0;34m\u001b[0m\u001b[0m\n\u001b[0m\u001b[1;32m    390\u001b[0m \u001b[0;34m\u001b[0m\u001b[0m\n\u001b[1;32m    391\u001b[0m         \u001b[0;32mif\u001b[0m \u001b[0mself\u001b[0m\u001b[0;34m.\u001b[0m\u001b[0mn_outputs_\u001b[0m \u001b[0;34m==\u001b[0m \u001b[0;36m1\u001b[0m \u001b[0;32mand\u001b[0m \u001b[0mis_classifier\u001b[0m\u001b[0;34m(\u001b[0m\u001b[0mself\u001b[0m\u001b[0;34m)\u001b[0m\u001b[0;34m:\u001b[0m\u001b[0;34m\u001b[0m\u001b[0;34m\u001b[0m\u001b[0m\n",
      "\u001b[0;31mKeyboardInterrupt\u001b[0m: "
     ]
    }
   ],
   "source": [
    "def nnrun(x_train,train_labels,x_test,hid_ly,max_int,tol,sol,act):\n",
    "    param_grid = {\n",
    "        'hidden_layer_sizes': hid_ly,\n",
    "        'max_iter': max_int,\n",
    "        'activation':act,\n",
    "        'solver': sol,\n",
    "        'tol': tol,\n",
    "        'random_state':[0] #1\n",
    "    }\n",
    "\n",
    "    nncl = MLPClassifier(random_state=0)\n",
    "\n",
    "    grid_search = GridSearchCV(estimator = nncl, param_grid = param_grid, cv = 5,scoring='accuracy')\n",
    "\n",
    "    grid_search.fit(x_train, train_labels)\n",
    "    grid_search.best_params_\n",
    "    print(grid_search.best_params_)\n",
    "    nn_model = grid_search.best_estimator_\n",
    "    nn_model\n",
    "    nn_train = nn_model.predict(x_train)\n",
    "    nn_test = nn_model.predict(x_test)\n",
    "    return(nn_model,nn_train,nn_test)   "
   ]
  },
  {
   "cell_type": "code",
   "execution_count": null,
   "metadata": {},
   "outputs": [],
   "source": [
    "nn_model,nn_train_p,nn_test_p = nnrun(X_train_sc,y_train,X_test_sc,[100],[1000],[0.001],['sgd'],['relu'])"
   ]
  },
  {
   "cell_type": "code",
   "execution_count": null,
   "metadata": {},
   "outputs": [],
   "source": [
    "res_df = scores_train_test(nn_model,X_train_sc,X_test_sc,y_train,y_test,nn_train_p,nn_test_p,'Tuned')"
   ]
  },
  {
   "cell_type": "code",
   "execution_count": 443,
   "metadata": {},
   "outputs": [],
   "source": [
    "df_test.drop(tvar,axis=1,inplace=True)"
   ]
  },
  {
   "cell_type": "code",
   "execution_count": 444,
   "metadata": {},
   "outputs": [],
   "source": [
    "final_model = rfcl_tuned.fit(X,y)"
   ]
  },
  {
   "cell_type": "code",
   "execution_count": 445,
   "metadata": {},
   "outputs": [],
   "source": [
    "rf_output = final_model.predict(df_test.drop('ID',axis=1))"
   ]
  },
  {
   "cell_type": "code",
   "execution_count": 446,
   "metadata": {},
   "outputs": [
    {
     "data": {
      "text/plain": [
       "array([1, 1, 1, ..., 1, 1, 0])"
      ]
     },
     "execution_count": 446,
     "metadata": {},
     "output_type": "execute_result"
    }
   ],
   "source": [
    "rf_output"
   ]
  },
  {
   "cell_type": "code",
   "execution_count": 447,
   "metadata": {},
   "outputs": [],
   "source": [
    "df_test[tvar]= rf_output"
   ]
  },
  {
   "cell_type": "code",
   "execution_count": 448,
   "metadata": {},
   "outputs": [],
   "source": [
    "m='tuned'"
   ]
  },
  {
   "cell_type": "code",
   "execution_count": 449,
   "metadata": {},
   "outputs": [],
   "source": [
    "df_test[['ID',tvar]].to_csv('./Hack_submission_'+m+'.csv',index=False)"
   ]
  }
 ],
 "metadata": {
  "kernelspec": {
   "display_name": "Python 3.9.2 64-bit ('base': conda)",
   "language": "python",
   "name": "python392jvsc74a57bd06e65ec8aad09cd88511b2ba5030a1c90fdc35fc5572be089f163542a26adf1c8"
  },
  "language_info": {
   "codemirror_mode": {
    "name": "ipython",
    "version": 3
   },
   "file_extension": ".py",
   "mimetype": "text/x-python",
   "name": "python",
   "nbconvert_exporter": "python",
   "pygments_lexer": "ipython3",
   "version": "3.9.2"
  },
  "metadata": {
   "interpreter": {
    "hash": "6e65ec8aad09cd88511b2ba5030a1c90fdc35fc5572be089f163542a26adf1c8"
   }
  }
 },
 "nbformat": 4,
 "nbformat_minor": 4
}
